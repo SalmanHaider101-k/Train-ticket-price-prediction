{
 "cells": [
  {
   "cell_type": "markdown",
   "metadata": {},
   "source": [
    "# Price Prediction using Regression"
   ]
  },
  {
   "cell_type": "markdown",
   "metadata": {},
   "source": [
    "This is a tickets pricing monitoring system. It scrapes tickets pricing data periodically and stores it in a database. Ticket pricing changes based on demand and time, and there can be significant difference in price. We are creating this product mainly with ourselves in mind. Users can set up alarms using an email, choosing an origin and destination (cities), time (date and hour range picker) choosing a price reduction over mean price, etc."
   ]
  },
  {
   "cell_type": "markdown",
   "metadata": {},
   "source": [
    "**Following is the description for columns in the dataset**<br>\n",
    "- insert_date: date and time when the price was collected and written in the database<br>\n",
    "- origin: origin city <br>\n",
    "- destination: destination city <br>\n",
    "- start_date: train departure time<br>\n",
    "- end_date: train arrival time<br>\n",
    "- train_type: train service name<br>\n",
    "- price: price<br>\n",
    "- train_class: ticket class, tourist, business, etc.<br>\n",
    "- fare: ticket fare, round trip, etc <br>"
   ]
  },
  {
   "cell_type": "code",
   "execution_count": 1,
   "metadata": {},
   "outputs": [],
   "source": [
    "import pandas as pd\n",
    "import numpy as np\n",
    "import seaborn as sns\n",
    "import matplotlib.pyplot as plt\n",
    "\n",
    "%matplotlib inline\n",
    "sns.set()"
   ]
  },
  {
   "cell_type": "markdown",
   "metadata": {},
   "source": [
    "#### **Task 1: Import Dataset and create a copy of that dataset**"
   ]
  },
  {
   "cell_type": "code",
   "execution_count": 2,
   "metadata": {},
   "outputs": [],
   "source": [
    "#write code here\n",
    "data = pd.read_csv('data1.csv')\n",
    "df = data.copy()"
   ]
  },
  {
   "cell_type": "markdown",
   "metadata": {},
   "source": [
    "#### **Task 2: Display first five rows** "
   ]
  },
  {
   "cell_type": "code",
   "execution_count": 3,
   "metadata": {},
   "outputs": [
    {
     "data": {
      "text/html": [
       "<div>\n",
       "<style scoped>\n",
       "    .dataframe tbody tr th:only-of-type {\n",
       "        vertical-align: middle;\n",
       "    }\n",
       "\n",
       "    .dataframe tbody tr th {\n",
       "        vertical-align: top;\n",
       "    }\n",
       "\n",
       "    .dataframe thead th {\n",
       "        text-align: right;\n",
       "    }\n",
       "</style>\n",
       "<table border=\"1\" class=\"dataframe\">\n",
       "  <thead>\n",
       "    <tr style=\"text-align: right;\">\n",
       "      <th></th>\n",
       "      <th>Unnamed: 0</th>\n",
       "      <th>insert_date</th>\n",
       "      <th>origin</th>\n",
       "      <th>destination</th>\n",
       "      <th>start_date</th>\n",
       "      <th>end_date</th>\n",
       "      <th>train_type</th>\n",
       "      <th>price</th>\n",
       "      <th>train_class</th>\n",
       "      <th>fare</th>\n",
       "    </tr>\n",
       "  </thead>\n",
       "  <tbody>\n",
       "    <tr>\n",
       "      <th>0</th>\n",
       "      <td>702</td>\n",
       "      <td>2019-04-19 05:37:35</td>\n",
       "      <td>PONFERRADA</td>\n",
       "      <td>MADRID</td>\n",
       "      <td>2019-06-02 15:00:00</td>\n",
       "      <td>2019-06-02 19:42:00</td>\n",
       "      <td>MD-AVE</td>\n",
       "      <td>59.50</td>\n",
       "      <td>Turista con enlace</td>\n",
       "      <td>Flexible</td>\n",
       "    </tr>\n",
       "    <tr>\n",
       "      <th>1</th>\n",
       "      <td>703</td>\n",
       "      <td>2019-04-19 05:37:35</td>\n",
       "      <td>PONFERRADA</td>\n",
       "      <td>MADRID</td>\n",
       "      <td>2019-06-02 17:15:00</td>\n",
       "      <td>2019-06-02 23:03:00</td>\n",
       "      <td>MD-AVE</td>\n",
       "      <td>34.65</td>\n",
       "      <td>Turista con enlace</td>\n",
       "      <td>Promo +</td>\n",
       "    </tr>\n",
       "    <tr>\n",
       "      <th>2</th>\n",
       "      <td>704</td>\n",
       "      <td>2019-04-19 05:37:35</td>\n",
       "      <td>PONFERRADA</td>\n",
       "      <td>MADRID</td>\n",
       "      <td>2019-06-02 17:15:00</td>\n",
       "      <td>2019-06-02 23:10:00</td>\n",
       "      <td>MD-LD</td>\n",
       "      <td>39.95</td>\n",
       "      <td>Turista con enlace</td>\n",
       "      <td>Promo +</td>\n",
       "    </tr>\n",
       "    <tr>\n",
       "      <th>3</th>\n",
       "      <td>705</td>\n",
       "      <td>2019-04-19 05:37:35</td>\n",
       "      <td>PONFERRADA</td>\n",
       "      <td>MADRID</td>\n",
       "      <td>2019-06-02 17:15:00</td>\n",
       "      <td>2019-06-02 22:14:00</td>\n",
       "      <td>MD-AVE</td>\n",
       "      <td>40.60</td>\n",
       "      <td>Turista con enlace</td>\n",
       "      <td>Promo +</td>\n",
       "    </tr>\n",
       "    <tr>\n",
       "      <th>4</th>\n",
       "      <td>706</td>\n",
       "      <td>2019-04-19 05:37:35</td>\n",
       "      <td>PONFERRADA</td>\n",
       "      <td>MADRID</td>\n",
       "      <td>2019-06-02 18:55:00</td>\n",
       "      <td>2019-06-02 23:03:00</td>\n",
       "      <td>ALVIA</td>\n",
       "      <td>27.90</td>\n",
       "      <td>Turista</td>\n",
       "      <td>Promo</td>\n",
       "    </tr>\n",
       "  </tbody>\n",
       "</table>\n",
       "</div>"
      ],
      "text/plain": [
       "   Unnamed: 0          insert_date      origin destination  \\\n",
       "0         702  2019-04-19 05:37:35  PONFERRADA      MADRID   \n",
       "1         703  2019-04-19 05:37:35  PONFERRADA      MADRID   \n",
       "2         704  2019-04-19 05:37:35  PONFERRADA      MADRID   \n",
       "3         705  2019-04-19 05:37:35  PONFERRADA      MADRID   \n",
       "4         706  2019-04-19 05:37:35  PONFERRADA      MADRID   \n",
       "\n",
       "            start_date             end_date train_type  price  \\\n",
       "0  2019-06-02 15:00:00  2019-06-02 19:42:00     MD-AVE  59.50   \n",
       "1  2019-06-02 17:15:00  2019-06-02 23:03:00     MD-AVE  34.65   \n",
       "2  2019-06-02 17:15:00  2019-06-02 23:10:00      MD-LD  39.95   \n",
       "3  2019-06-02 17:15:00  2019-06-02 22:14:00     MD-AVE  40.60   \n",
       "4  2019-06-02 18:55:00  2019-06-02 23:03:00      ALVIA  27.90   \n",
       "\n",
       "          train_class      fare  \n",
       "0  Turista con enlace  Flexible  \n",
       "1  Turista con enlace   Promo +  \n",
       "2  Turista con enlace   Promo +  \n",
       "3  Turista con enlace   Promo +  \n",
       "4             Turista     Promo  "
      ]
     },
     "execution_count": 3,
     "metadata": {},
     "output_type": "execute_result"
    }
   ],
   "source": [
    "#write code here\n",
    "df.head()"
   ]
  },
  {
   "cell_type": "markdown",
   "metadata": {},
   "source": [
    "#### **Task 3: Drop 'unnamed: 0' column**"
   ]
  },
  {
   "cell_type": "code",
   "execution_count": 4,
   "metadata": {},
   "outputs": [],
   "source": [
    "#write code here\n",
    "df = df.drop(['Unnamed: 0'],axis=1)"
   ]
  },
  {
   "cell_type": "markdown",
   "metadata": {},
   "source": [
    "#### **Task 4: Check the number of rows and columns**"
   ]
  },
  {
   "cell_type": "code",
   "execution_count": 5,
   "metadata": {},
   "outputs": [
    {
     "data": {
      "text/plain": [
       "(215909, 9)"
      ]
     },
     "execution_count": 5,
     "metadata": {},
     "output_type": "execute_result"
    }
   ],
   "source": [
    "#write code here\n",
    "df.shape"
   ]
  },
  {
   "cell_type": "markdown",
   "metadata": {},
   "source": [
    "#### **Task 5: Check data types of all columns**"
   ]
  },
  {
   "cell_type": "code",
   "execution_count": 6,
   "metadata": {},
   "outputs": [
    {
     "data": {
      "text/plain": [
       "insert_date     object\n",
       "origin          object\n",
       "destination     object\n",
       "start_date      object\n",
       "end_date        object\n",
       "train_type      object\n",
       "price          float64\n",
       "train_class     object\n",
       "fare            object\n",
       "dtype: object"
      ]
     },
     "execution_count": 6,
     "metadata": {},
     "output_type": "execute_result"
    }
   ],
   "source": [
    "#write code here\n",
    "df.dtypes"
   ]
  },
  {
   "cell_type": "markdown",
   "metadata": {},
   "source": [
    "#### **Task 6: Check summary statistics**"
   ]
  },
  {
   "cell_type": "code",
   "execution_count": 7,
   "metadata": {},
   "outputs": [
    {
     "data": {
      "text/html": [
       "<div>\n",
       "<style scoped>\n",
       "    .dataframe tbody tr th:only-of-type {\n",
       "        vertical-align: middle;\n",
       "    }\n",
       "\n",
       "    .dataframe tbody tr th {\n",
       "        vertical-align: top;\n",
       "    }\n",
       "\n",
       "    .dataframe thead th {\n",
       "        text-align: right;\n",
       "    }\n",
       "</style>\n",
       "<table border=\"1\" class=\"dataframe\">\n",
       "  <thead>\n",
       "    <tr style=\"text-align: right;\">\n",
       "      <th></th>\n",
       "      <th>price</th>\n",
       "    </tr>\n",
       "  </thead>\n",
       "  <tbody>\n",
       "    <tr>\n",
       "      <th>count</th>\n",
       "      <td>202321.000000</td>\n",
       "    </tr>\n",
       "    <tr>\n",
       "      <th>mean</th>\n",
       "      <td>56.723877</td>\n",
       "    </tr>\n",
       "    <tr>\n",
       "      <th>std</th>\n",
       "      <td>25.531787</td>\n",
       "    </tr>\n",
       "    <tr>\n",
       "      <th>min</th>\n",
       "      <td>16.600000</td>\n",
       "    </tr>\n",
       "    <tr>\n",
       "      <th>25%</th>\n",
       "      <td>28.350000</td>\n",
       "    </tr>\n",
       "    <tr>\n",
       "      <th>50%</th>\n",
       "      <td>53.400000</td>\n",
       "    </tr>\n",
       "    <tr>\n",
       "      <th>75%</th>\n",
       "      <td>76.300000</td>\n",
       "    </tr>\n",
       "    <tr>\n",
       "      <th>max</th>\n",
       "      <td>206.800000</td>\n",
       "    </tr>\n",
       "  </tbody>\n",
       "</table>\n",
       "</div>"
      ],
      "text/plain": [
       "               price\n",
       "count  202321.000000\n",
       "mean       56.723877\n",
       "std        25.531787\n",
       "min        16.600000\n",
       "25%        28.350000\n",
       "50%        53.400000\n",
       "75%        76.300000\n",
       "max       206.800000"
      ]
     },
     "execution_count": 7,
     "metadata": {},
     "output_type": "execute_result"
    }
   ],
   "source": [
    "#write code here\n",
    "df.describe()"
   ]
  },
  {
   "cell_type": "markdown",
   "metadata": {},
   "source": [
    "#### **Task 7: Check summary statistics of all columns, including object dataypes**"
   ]
  },
  {
   "cell_type": "code",
   "execution_count": 8,
   "metadata": {},
   "outputs": [
    {
     "data": {
      "text/html": [
       "<div>\n",
       "<style scoped>\n",
       "    .dataframe tbody tr th:only-of-type {\n",
       "        vertical-align: middle;\n",
       "    }\n",
       "\n",
       "    .dataframe tbody tr th {\n",
       "        vertical-align: top;\n",
       "    }\n",
       "\n",
       "    .dataframe thead th {\n",
       "        text-align: right;\n",
       "    }\n",
       "</style>\n",
       "<table border=\"1\" class=\"dataframe\">\n",
       "  <thead>\n",
       "    <tr style=\"text-align: right;\">\n",
       "      <th></th>\n",
       "      <th>insert_date</th>\n",
       "      <th>origin</th>\n",
       "      <th>destination</th>\n",
       "      <th>start_date</th>\n",
       "      <th>end_date</th>\n",
       "      <th>train_type</th>\n",
       "      <th>price</th>\n",
       "      <th>train_class</th>\n",
       "      <th>fare</th>\n",
       "    </tr>\n",
       "  </thead>\n",
       "  <tbody>\n",
       "    <tr>\n",
       "      <th>count</th>\n",
       "      <td>215909</td>\n",
       "      <td>215909</td>\n",
       "      <td>215909</td>\n",
       "      <td>215909</td>\n",
       "      <td>215909</td>\n",
       "      <td>215909</td>\n",
       "      <td>202321.000000</td>\n",
       "      <td>215266</td>\n",
       "      <td>215266</td>\n",
       "    </tr>\n",
       "    <tr>\n",
       "      <th>unique</th>\n",
       "      <td>30543</td>\n",
       "      <td>5</td>\n",
       "      <td>5</td>\n",
       "      <td>2231</td>\n",
       "      <td>2870</td>\n",
       "      <td>16</td>\n",
       "      <td>NaN</td>\n",
       "      <td>5</td>\n",
       "      <td>5</td>\n",
       "    </tr>\n",
       "    <tr>\n",
       "      <th>top</th>\n",
       "      <td>2019-05-09 15:02:02</td>\n",
       "      <td>MADRID</td>\n",
       "      <td>MADRID</td>\n",
       "      <td>2019-06-02 17:30:00</td>\n",
       "      <td>2019-06-02 23:03:00</td>\n",
       "      <td>AVE</td>\n",
       "      <td>NaN</td>\n",
       "      <td>Turista</td>\n",
       "      <td>Promo</td>\n",
       "    </tr>\n",
       "    <tr>\n",
       "      <th>freq</th>\n",
       "      <td>90</td>\n",
       "      <td>110440</td>\n",
       "      <td>105469</td>\n",
       "      <td>2089</td>\n",
       "      <td>1278</td>\n",
       "      <td>126577</td>\n",
       "      <td>NaN</td>\n",
       "      <td>164016</td>\n",
       "      <td>132065</td>\n",
       "    </tr>\n",
       "    <tr>\n",
       "      <th>mean</th>\n",
       "      <td>NaN</td>\n",
       "      <td>NaN</td>\n",
       "      <td>NaN</td>\n",
       "      <td>NaN</td>\n",
       "      <td>NaN</td>\n",
       "      <td>NaN</td>\n",
       "      <td>56.723877</td>\n",
       "      <td>NaN</td>\n",
       "      <td>NaN</td>\n",
       "    </tr>\n",
       "    <tr>\n",
       "      <th>std</th>\n",
       "      <td>NaN</td>\n",
       "      <td>NaN</td>\n",
       "      <td>NaN</td>\n",
       "      <td>NaN</td>\n",
       "      <td>NaN</td>\n",
       "      <td>NaN</td>\n",
       "      <td>25.531787</td>\n",
       "      <td>NaN</td>\n",
       "      <td>NaN</td>\n",
       "    </tr>\n",
       "    <tr>\n",
       "      <th>min</th>\n",
       "      <td>NaN</td>\n",
       "      <td>NaN</td>\n",
       "      <td>NaN</td>\n",
       "      <td>NaN</td>\n",
       "      <td>NaN</td>\n",
       "      <td>NaN</td>\n",
       "      <td>16.600000</td>\n",
       "      <td>NaN</td>\n",
       "      <td>NaN</td>\n",
       "    </tr>\n",
       "    <tr>\n",
       "      <th>25%</th>\n",
       "      <td>NaN</td>\n",
       "      <td>NaN</td>\n",
       "      <td>NaN</td>\n",
       "      <td>NaN</td>\n",
       "      <td>NaN</td>\n",
       "      <td>NaN</td>\n",
       "      <td>28.350000</td>\n",
       "      <td>NaN</td>\n",
       "      <td>NaN</td>\n",
       "    </tr>\n",
       "    <tr>\n",
       "      <th>50%</th>\n",
       "      <td>NaN</td>\n",
       "      <td>NaN</td>\n",
       "      <td>NaN</td>\n",
       "      <td>NaN</td>\n",
       "      <td>NaN</td>\n",
       "      <td>NaN</td>\n",
       "      <td>53.400000</td>\n",
       "      <td>NaN</td>\n",
       "      <td>NaN</td>\n",
       "    </tr>\n",
       "    <tr>\n",
       "      <th>75%</th>\n",
       "      <td>NaN</td>\n",
       "      <td>NaN</td>\n",
       "      <td>NaN</td>\n",
       "      <td>NaN</td>\n",
       "      <td>NaN</td>\n",
       "      <td>NaN</td>\n",
       "      <td>76.300000</td>\n",
       "      <td>NaN</td>\n",
       "      <td>NaN</td>\n",
       "    </tr>\n",
       "    <tr>\n",
       "      <th>max</th>\n",
       "      <td>NaN</td>\n",
       "      <td>NaN</td>\n",
       "      <td>NaN</td>\n",
       "      <td>NaN</td>\n",
       "      <td>NaN</td>\n",
       "      <td>NaN</td>\n",
       "      <td>206.800000</td>\n",
       "      <td>NaN</td>\n",
       "      <td>NaN</td>\n",
       "    </tr>\n",
       "  </tbody>\n",
       "</table>\n",
       "</div>"
      ],
      "text/plain": [
       "                insert_date  origin destination           start_date  \\\n",
       "count                215909  215909      215909               215909   \n",
       "unique                30543       5           5                 2231   \n",
       "top     2019-05-09 15:02:02  MADRID      MADRID  2019-06-02 17:30:00   \n",
       "freq                     90  110440      105469                 2089   \n",
       "mean                    NaN     NaN         NaN                  NaN   \n",
       "std                     NaN     NaN         NaN                  NaN   \n",
       "min                     NaN     NaN         NaN                  NaN   \n",
       "25%                     NaN     NaN         NaN                  NaN   \n",
       "50%                     NaN     NaN         NaN                  NaN   \n",
       "75%                     NaN     NaN         NaN                  NaN   \n",
       "max                     NaN     NaN         NaN                  NaN   \n",
       "\n",
       "                   end_date train_type          price train_class    fare  \n",
       "count                215909     215909  202321.000000      215266  215266  \n",
       "unique                 2870         16            NaN           5       5  \n",
       "top     2019-06-02 23:03:00        AVE            NaN     Turista   Promo  \n",
       "freq                   1278     126577            NaN      164016  132065  \n",
       "mean                    NaN        NaN      56.723877         NaN     NaN  \n",
       "std                     NaN        NaN      25.531787         NaN     NaN  \n",
       "min                     NaN        NaN      16.600000         NaN     NaN  \n",
       "25%                     NaN        NaN      28.350000         NaN     NaN  \n",
       "50%                     NaN        NaN      53.400000         NaN     NaN  \n",
       "75%                     NaN        NaN      76.300000         NaN     NaN  \n",
       "max                     NaN        NaN     206.800000         NaN     NaN  "
      ]
     },
     "execution_count": 8,
     "metadata": {},
     "output_type": "execute_result"
    }
   ],
   "source": [
    "df.describe(include='all')"
   ]
  },
  {
   "cell_type": "markdown",
   "metadata": {},
   "source": [
    "**Question: Explain the summary statistics for the above data set**"
   ]
  },
  {
   "cell_type": "markdown",
   "metadata": {},
   "source": [
    "**Answer:**"
   ]
  },
  {
   "cell_type": "markdown",
   "metadata": {},
   "source": [
    "#### **Task 8: Check null values in dataset**"
   ]
  },
  {
   "cell_type": "code",
   "execution_count": 9,
   "metadata": {},
   "outputs": [
    {
     "data": {
      "text/plain": [
       "insert_date        0\n",
       "origin             0\n",
       "destination        0\n",
       "start_date         0\n",
       "end_date           0\n",
       "train_type         0\n",
       "price          13588\n",
       "train_class      643\n",
       "fare             643\n",
       "dtype: int64"
      ]
     },
     "execution_count": 9,
     "metadata": {},
     "output_type": "execute_result"
    }
   ],
   "source": [
    "#write code here\n",
    "df.isnull().sum()"
   ]
  },
  {
   "cell_type": "code",
   "execution_count": 10,
   "metadata": {},
   "outputs": [
    {
     "data": {
      "text/plain": [
       "13588"
      ]
     },
     "execution_count": 10,
     "metadata": {},
     "output_type": "execute_result"
    }
   ],
   "source": [
    "df['price'].isnull().sum()"
   ]
  },
  {
   "cell_type": "markdown",
   "metadata": {},
   "source": [
    "#### **Task 9: Fill the Null values in the 'price' column.**<br>\n",
    "*Hint: Take mean*"
   ]
  },
  {
   "cell_type": "code",
   "execution_count": 11,
   "metadata": {},
   "outputs": [
    {
     "data": {
      "text/plain": [
       "insert_date      0\n",
       "origin           0\n",
       "destination      0\n",
       "start_date       0\n",
       "end_date         0\n",
       "train_type       0\n",
       "price            0\n",
       "train_class    643\n",
       "fare           643\n",
       "dtype: int64"
      ]
     },
     "execution_count": 11,
     "metadata": {},
     "output_type": "execute_result"
    }
   ],
   "source": [
    "#df['price'] = df['price'].replace(np.nan,price_mean,inplace=True)\n",
    "df.price.fillna(value=df.price.mean(), inplace=True)\n",
    "df.isnull().sum()"
   ]
  },
  {
   "cell_type": "markdown",
   "metadata": {},
   "source": [
    "#### **Task 10: Drop the rows containing Null values in the attributes train_class and fare**"
   ]
  },
  {
   "cell_type": "code",
   "execution_count": 12,
   "metadata": {},
   "outputs": [],
   "source": [
    "df = df.dropna(subset=['train_class'])"
   ]
  },
  {
   "cell_type": "code",
   "execution_count": 13,
   "metadata": {},
   "outputs": [
    {
     "data": {
      "text/plain": [
       "0"
      ]
     },
     "execution_count": 13,
     "metadata": {},
     "output_type": "execute_result"
    }
   ],
   "source": [
    "df['train_class'].isnull().sum()"
   ]
  },
  {
   "cell_type": "markdown",
   "metadata": {},
   "source": [
    "#### **Task 11: Drop 'insert_date'**"
   ]
  },
  {
   "cell_type": "code",
   "execution_count": 14,
   "metadata": {},
   "outputs": [
    {
     "data": {
      "text/html": [
       "<div>\n",
       "<style scoped>\n",
       "    .dataframe tbody tr th:only-of-type {\n",
       "        vertical-align: middle;\n",
       "    }\n",
       "\n",
       "    .dataframe tbody tr th {\n",
       "        vertical-align: top;\n",
       "    }\n",
       "\n",
       "    .dataframe thead th {\n",
       "        text-align: right;\n",
       "    }\n",
       "</style>\n",
       "<table border=\"1\" class=\"dataframe\">\n",
       "  <thead>\n",
       "    <tr style=\"text-align: right;\">\n",
       "      <th></th>\n",
       "      <th>origin</th>\n",
       "      <th>destination</th>\n",
       "      <th>start_date</th>\n",
       "      <th>end_date</th>\n",
       "      <th>train_type</th>\n",
       "      <th>price</th>\n",
       "      <th>train_class</th>\n",
       "      <th>fare</th>\n",
       "    </tr>\n",
       "  </thead>\n",
       "  <tbody>\n",
       "    <tr>\n",
       "      <th>0</th>\n",
       "      <td>PONFERRADA</td>\n",
       "      <td>MADRID</td>\n",
       "      <td>2019-06-02 15:00:00</td>\n",
       "      <td>2019-06-02 19:42:00</td>\n",
       "      <td>MD-AVE</td>\n",
       "      <td>59.500000</td>\n",
       "      <td>Turista con enlace</td>\n",
       "      <td>Flexible</td>\n",
       "    </tr>\n",
       "    <tr>\n",
       "      <th>1</th>\n",
       "      <td>PONFERRADA</td>\n",
       "      <td>MADRID</td>\n",
       "      <td>2019-06-02 17:15:00</td>\n",
       "      <td>2019-06-02 23:03:00</td>\n",
       "      <td>MD-AVE</td>\n",
       "      <td>34.650000</td>\n",
       "      <td>Turista con enlace</td>\n",
       "      <td>Promo +</td>\n",
       "    </tr>\n",
       "    <tr>\n",
       "      <th>2</th>\n",
       "      <td>PONFERRADA</td>\n",
       "      <td>MADRID</td>\n",
       "      <td>2019-06-02 17:15:00</td>\n",
       "      <td>2019-06-02 23:10:00</td>\n",
       "      <td>MD-LD</td>\n",
       "      <td>39.950000</td>\n",
       "      <td>Turista con enlace</td>\n",
       "      <td>Promo +</td>\n",
       "    </tr>\n",
       "    <tr>\n",
       "      <th>3</th>\n",
       "      <td>PONFERRADA</td>\n",
       "      <td>MADRID</td>\n",
       "      <td>2019-06-02 17:15:00</td>\n",
       "      <td>2019-06-02 22:14:00</td>\n",
       "      <td>MD-AVE</td>\n",
       "      <td>40.600000</td>\n",
       "      <td>Turista con enlace</td>\n",
       "      <td>Promo +</td>\n",
       "    </tr>\n",
       "    <tr>\n",
       "      <th>4</th>\n",
       "      <td>PONFERRADA</td>\n",
       "      <td>MADRID</td>\n",
       "      <td>2019-06-02 18:55:00</td>\n",
       "      <td>2019-06-02 23:03:00</td>\n",
       "      <td>ALVIA</td>\n",
       "      <td>27.900000</td>\n",
       "      <td>Turista</td>\n",
       "      <td>Promo</td>\n",
       "    </tr>\n",
       "    <tr>\n",
       "      <th>5</th>\n",
       "      <td>MADRID</td>\n",
       "      <td>VALENCIA</td>\n",
       "      <td>2019-06-17 06:08:00</td>\n",
       "      <td>2019-06-17 12:55:00</td>\n",
       "      <td>REGIONAL</td>\n",
       "      <td>28.350000</td>\n",
       "      <td>Turista</td>\n",
       "      <td>Adulto ida</td>\n",
       "    </tr>\n",
       "    <tr>\n",
       "      <th>6</th>\n",
       "      <td>MADRID</td>\n",
       "      <td>VALENCIA</td>\n",
       "      <td>2019-06-17 12:21:00</td>\n",
       "      <td>2019-06-17 19:04:00</td>\n",
       "      <td>REGIONAL</td>\n",
       "      <td>28.350000</td>\n",
       "      <td>Turista</td>\n",
       "      <td>Adulto ida</td>\n",
       "    </tr>\n",
       "    <tr>\n",
       "      <th>7</th>\n",
       "      <td>MADRID</td>\n",
       "      <td>VALENCIA</td>\n",
       "      <td>2019-06-17 16:05:00</td>\n",
       "      <td>2019-06-17 22:47:00</td>\n",
       "      <td>REGIONAL</td>\n",
       "      <td>28.350000</td>\n",
       "      <td>Turista</td>\n",
       "      <td>Adulto ida</td>\n",
       "    </tr>\n",
       "    <tr>\n",
       "      <th>8</th>\n",
       "      <td>MADRID</td>\n",
       "      <td>VALENCIA</td>\n",
       "      <td>2019-06-16 06:20:00</td>\n",
       "      <td>2019-06-16 12:55:00</td>\n",
       "      <td>REGIONAL</td>\n",
       "      <td>28.350000</td>\n",
       "      <td>Turista</td>\n",
       "      <td>Adulto ida</td>\n",
       "    </tr>\n",
       "    <tr>\n",
       "      <th>9</th>\n",
       "      <td>MADRID</td>\n",
       "      <td>VALENCIA</td>\n",
       "      <td>2019-06-16 12:42:00</td>\n",
       "      <td>2019-06-16 19:04:00</td>\n",
       "      <td>REGIONAL</td>\n",
       "      <td>28.350000</td>\n",
       "      <td>Turista</td>\n",
       "      <td>Adulto ida</td>\n",
       "    </tr>\n",
       "    <tr>\n",
       "      <th>10</th>\n",
       "      <td>MADRID</td>\n",
       "      <td>VALENCIA</td>\n",
       "      <td>2019-06-16 16:30:00</td>\n",
       "      <td>2019-06-16 22:47:00</td>\n",
       "      <td>REGIONAL</td>\n",
       "      <td>28.350000</td>\n",
       "      <td>Turista</td>\n",
       "      <td>Adulto ida</td>\n",
       "    </tr>\n",
       "    <tr>\n",
       "      <th>11</th>\n",
       "      <td>MADRID</td>\n",
       "      <td>VALENCIA</td>\n",
       "      <td>2019-06-15 08:00:00</td>\n",
       "      <td>2019-06-15 14:10:00</td>\n",
       "      <td>REGIONAL</td>\n",
       "      <td>28.350000</td>\n",
       "      <td>Turista</td>\n",
       "      <td>Adulto ida</td>\n",
       "    </tr>\n",
       "    <tr>\n",
       "      <th>12</th>\n",
       "      <td>MADRID</td>\n",
       "      <td>VALENCIA</td>\n",
       "      <td>2019-06-15 16:30:00</td>\n",
       "      <td>2019-06-15 22:47:00</td>\n",
       "      <td>REGIONAL</td>\n",
       "      <td>28.350000</td>\n",
       "      <td>Turista</td>\n",
       "      <td>Adulto ida</td>\n",
       "    </tr>\n",
       "    <tr>\n",
       "      <th>13</th>\n",
       "      <td>MADRID</td>\n",
       "      <td>VALENCIA</td>\n",
       "      <td>2019-06-14 06:08:00</td>\n",
       "      <td>2019-06-14 12:55:00</td>\n",
       "      <td>REGIONAL</td>\n",
       "      <td>28.350000</td>\n",
       "      <td>Turista</td>\n",
       "      <td>Adulto ida</td>\n",
       "    </tr>\n",
       "    <tr>\n",
       "      <th>14</th>\n",
       "      <td>MADRID</td>\n",
       "      <td>VALENCIA</td>\n",
       "      <td>2019-06-14 12:21:00</td>\n",
       "      <td>2019-06-14 19:04:00</td>\n",
       "      <td>REGIONAL</td>\n",
       "      <td>28.350000</td>\n",
       "      <td>Turista</td>\n",
       "      <td>Adulto ida</td>\n",
       "    </tr>\n",
       "    <tr>\n",
       "      <th>15</th>\n",
       "      <td>MADRID</td>\n",
       "      <td>VALENCIA</td>\n",
       "      <td>2019-06-14 16:30:00</td>\n",
       "      <td>2019-06-14 22:47:00</td>\n",
       "      <td>REGIONAL</td>\n",
       "      <td>28.350000</td>\n",
       "      <td>Turista</td>\n",
       "      <td>Adulto ida</td>\n",
       "    </tr>\n",
       "    <tr>\n",
       "      <th>16</th>\n",
       "      <td>MADRID</td>\n",
       "      <td>VALENCIA</td>\n",
       "      <td>2019-06-13 06:08:00</td>\n",
       "      <td>2019-06-13 12:55:00</td>\n",
       "      <td>REGIONAL</td>\n",
       "      <td>28.350000</td>\n",
       "      <td>Turista</td>\n",
       "      <td>Adulto ida</td>\n",
       "    </tr>\n",
       "    <tr>\n",
       "      <th>17</th>\n",
       "      <td>MADRID</td>\n",
       "      <td>VALENCIA</td>\n",
       "      <td>2019-06-13 12:21:00</td>\n",
       "      <td>2019-06-13 19:04:00</td>\n",
       "      <td>REGIONAL</td>\n",
       "      <td>28.350000</td>\n",
       "      <td>Turista</td>\n",
       "      <td>Adulto ida</td>\n",
       "    </tr>\n",
       "    <tr>\n",
       "      <th>18</th>\n",
       "      <td>MADRID</td>\n",
       "      <td>VALENCIA</td>\n",
       "      <td>2019-06-13 16:05:00</td>\n",
       "      <td>2019-06-13 22:47:00</td>\n",
       "      <td>REGIONAL</td>\n",
       "      <td>28.350000</td>\n",
       "      <td>Turista</td>\n",
       "      <td>Adulto ida</td>\n",
       "    </tr>\n",
       "    <tr>\n",
       "      <th>19</th>\n",
       "      <td>MADRID</td>\n",
       "      <td>VALENCIA</td>\n",
       "      <td>2019-06-12 06:08:00</td>\n",
       "      <td>2019-06-12 12:55:00</td>\n",
       "      <td>REGIONAL</td>\n",
       "      <td>28.350000</td>\n",
       "      <td>Turista</td>\n",
       "      <td>Adulto ida</td>\n",
       "    </tr>\n",
       "    <tr>\n",
       "      <th>20</th>\n",
       "      <td>MADRID</td>\n",
       "      <td>VALENCIA</td>\n",
       "      <td>2019-06-12 12:21:00</td>\n",
       "      <td>2019-06-12 19:04:00</td>\n",
       "      <td>REGIONAL</td>\n",
       "      <td>28.350000</td>\n",
       "      <td>Turista</td>\n",
       "      <td>Adulto ida</td>\n",
       "    </tr>\n",
       "    <tr>\n",
       "      <th>21</th>\n",
       "      <td>MADRID</td>\n",
       "      <td>VALENCIA</td>\n",
       "      <td>2019-06-12 16:05:00</td>\n",
       "      <td>2019-06-12 22:47:00</td>\n",
       "      <td>REGIONAL</td>\n",
       "      <td>28.350000</td>\n",
       "      <td>Turista</td>\n",
       "      <td>Adulto ida</td>\n",
       "    </tr>\n",
       "    <tr>\n",
       "      <th>22</th>\n",
       "      <td>MADRID</td>\n",
       "      <td>VALENCIA</td>\n",
       "      <td>2019-06-11 06:08:00</td>\n",
       "      <td>2019-06-11 12:55:00</td>\n",
       "      <td>REGIONAL</td>\n",
       "      <td>28.350000</td>\n",
       "      <td>Turista</td>\n",
       "      <td>Adulto ida</td>\n",
       "    </tr>\n",
       "    <tr>\n",
       "      <th>23</th>\n",
       "      <td>MADRID</td>\n",
       "      <td>VALENCIA</td>\n",
       "      <td>2019-06-11 12:21:00</td>\n",
       "      <td>2019-06-11 19:04:00</td>\n",
       "      <td>REGIONAL</td>\n",
       "      <td>28.350000</td>\n",
       "      <td>Turista</td>\n",
       "      <td>Adulto ida</td>\n",
       "    </tr>\n",
       "    <tr>\n",
       "      <th>24</th>\n",
       "      <td>MADRID</td>\n",
       "      <td>VALENCIA</td>\n",
       "      <td>2019-06-11 16:05:00</td>\n",
       "      <td>2019-06-11 22:47:00</td>\n",
       "      <td>REGIONAL</td>\n",
       "      <td>28.350000</td>\n",
       "      <td>Turista</td>\n",
       "      <td>Adulto ida</td>\n",
       "    </tr>\n",
       "    <tr>\n",
       "      <th>25</th>\n",
       "      <td>MADRID</td>\n",
       "      <td>VALENCIA</td>\n",
       "      <td>2019-06-10 06:08:00</td>\n",
       "      <td>2019-06-10 12:55:00</td>\n",
       "      <td>REGIONAL</td>\n",
       "      <td>28.350000</td>\n",
       "      <td>Turista</td>\n",
       "      <td>Adulto ida</td>\n",
       "    </tr>\n",
       "    <tr>\n",
       "      <th>26</th>\n",
       "      <td>MADRID</td>\n",
       "      <td>VALENCIA</td>\n",
       "      <td>2019-06-10 12:21:00</td>\n",
       "      <td>2019-06-10 19:04:00</td>\n",
       "      <td>REGIONAL</td>\n",
       "      <td>28.350000</td>\n",
       "      <td>Turista</td>\n",
       "      <td>Adulto ida</td>\n",
       "    </tr>\n",
       "    <tr>\n",
       "      <th>27</th>\n",
       "      <td>MADRID</td>\n",
       "      <td>VALENCIA</td>\n",
       "      <td>2019-06-10 16:05:00</td>\n",
       "      <td>2019-06-10 22:47:00</td>\n",
       "      <td>REGIONAL</td>\n",
       "      <td>28.350000</td>\n",
       "      <td>Turista</td>\n",
       "      <td>Adulto ida</td>\n",
       "    </tr>\n",
       "    <tr>\n",
       "      <th>28</th>\n",
       "      <td>MADRID</td>\n",
       "      <td>VALENCIA</td>\n",
       "      <td>2019-06-09 06:20:00</td>\n",
       "      <td>2019-06-09 12:55:00</td>\n",
       "      <td>REGIONAL</td>\n",
       "      <td>28.350000</td>\n",
       "      <td>Turista</td>\n",
       "      <td>Adulto ida</td>\n",
       "    </tr>\n",
       "    <tr>\n",
       "      <th>29</th>\n",
       "      <td>MADRID</td>\n",
       "      <td>VALENCIA</td>\n",
       "      <td>2019-06-09 12:42:00</td>\n",
       "      <td>2019-06-09 19:04:00</td>\n",
       "      <td>REGIONAL</td>\n",
       "      <td>28.350000</td>\n",
       "      <td>Turista</td>\n",
       "      <td>Adulto ida</td>\n",
       "    </tr>\n",
       "    <tr>\n",
       "      <th>...</th>\n",
       "      <td>...</td>\n",
       "      <td>...</td>\n",
       "      <td>...</td>\n",
       "      <td>...</td>\n",
       "      <td>...</td>\n",
       "      <td>...</td>\n",
       "      <td>...</td>\n",
       "      <td>...</td>\n",
       "    </tr>\n",
       "    <tr>\n",
       "      <th>215879</th>\n",
       "      <td>SEVILLA</td>\n",
       "      <td>MADRID</td>\n",
       "      <td>2019-06-01 09:40:00</td>\n",
       "      <td>2019-06-01 12:23:00</td>\n",
       "      <td>AVE</td>\n",
       "      <td>76.300000</td>\n",
       "      <td>Turista</td>\n",
       "      <td>Flexible</td>\n",
       "    </tr>\n",
       "    <tr>\n",
       "      <th>215880</th>\n",
       "      <td>SEVILLA</td>\n",
       "      <td>MADRID</td>\n",
       "      <td>2019-06-01 09:50:00</td>\n",
       "      <td>2019-06-01 12:36:00</td>\n",
       "      <td>ALVIA</td>\n",
       "      <td>87.400000</td>\n",
       "      <td>Preferente</td>\n",
       "      <td>Flexible</td>\n",
       "    </tr>\n",
       "    <tr>\n",
       "      <th>215881</th>\n",
       "      <td>SEVILLA</td>\n",
       "      <td>MADRID</td>\n",
       "      <td>2019-06-01 10:45:00</td>\n",
       "      <td>2019-06-01 13:17:00</td>\n",
       "      <td>AVE</td>\n",
       "      <td>61.450000</td>\n",
       "      <td>Preferente</td>\n",
       "      <td>Promo</td>\n",
       "    </tr>\n",
       "    <tr>\n",
       "      <th>215882</th>\n",
       "      <td>SEVILLA</td>\n",
       "      <td>MADRID</td>\n",
       "      <td>2019-06-01 11:45:00</td>\n",
       "      <td>2019-06-01 14:17:00</td>\n",
       "      <td>AVE</td>\n",
       "      <td>47.300000</td>\n",
       "      <td>Turista</td>\n",
       "      <td>Promo</td>\n",
       "    </tr>\n",
       "    <tr>\n",
       "      <th>215883</th>\n",
       "      <td>SEVILLA</td>\n",
       "      <td>MADRID</td>\n",
       "      <td>2019-06-01 12:18:00</td>\n",
       "      <td>2019-06-01 14:56:00</td>\n",
       "      <td>ALVIA</td>\n",
       "      <td>56.723877</td>\n",
       "      <td>Turista</td>\n",
       "      <td>Promo</td>\n",
       "    </tr>\n",
       "    <tr>\n",
       "      <th>215884</th>\n",
       "      <td>SEVILLA</td>\n",
       "      <td>MADRID</td>\n",
       "      <td>2019-06-01 13:40:00</td>\n",
       "      <td>2019-06-01 16:10:00</td>\n",
       "      <td>AVE</td>\n",
       "      <td>47.300000</td>\n",
       "      <td>Turista</td>\n",
       "      <td>Promo</td>\n",
       "    </tr>\n",
       "    <tr>\n",
       "      <th>215885</th>\n",
       "      <td>SEVILLA</td>\n",
       "      <td>MADRID</td>\n",
       "      <td>2019-06-01 14:58:00</td>\n",
       "      <td>2019-06-01 17:50:00</td>\n",
       "      <td>ALVIA</td>\n",
       "      <td>47.050000</td>\n",
       "      <td>Turista</td>\n",
       "      <td>Promo</td>\n",
       "    </tr>\n",
       "    <tr>\n",
       "      <th>215886</th>\n",
       "      <td>SEVILLA</td>\n",
       "      <td>MADRID</td>\n",
       "      <td>2019-06-01 15:45:00</td>\n",
       "      <td>2019-06-01 18:15:00</td>\n",
       "      <td>AVE</td>\n",
       "      <td>53.400000</td>\n",
       "      <td>Turista</td>\n",
       "      <td>Promo</td>\n",
       "    </tr>\n",
       "    <tr>\n",
       "      <th>215887</th>\n",
       "      <td>SEVILLA</td>\n",
       "      <td>MADRID</td>\n",
       "      <td>2019-06-01 16:45:00</td>\n",
       "      <td>2019-06-01 19:17:00</td>\n",
       "      <td>AVE</td>\n",
       "      <td>53.400000</td>\n",
       "      <td>Turista</td>\n",
       "      <td>Promo</td>\n",
       "    </tr>\n",
       "    <tr>\n",
       "      <th>215888</th>\n",
       "      <td>SEVILLA</td>\n",
       "      <td>MADRID</td>\n",
       "      <td>2019-06-01 17:45:00</td>\n",
       "      <td>2019-06-01 20:17:00</td>\n",
       "      <td>AVE</td>\n",
       "      <td>60.300000</td>\n",
       "      <td>Turista</td>\n",
       "      <td>Promo</td>\n",
       "    </tr>\n",
       "    <tr>\n",
       "      <th>215889</th>\n",
       "      <td>SEVILLA</td>\n",
       "      <td>MADRID</td>\n",
       "      <td>2019-06-01 18:45:00</td>\n",
       "      <td>2019-06-01 21:17:00</td>\n",
       "      <td>AVE</td>\n",
       "      <td>61.450000</td>\n",
       "      <td>Preferente</td>\n",
       "      <td>Promo</td>\n",
       "    </tr>\n",
       "    <tr>\n",
       "      <th>215890</th>\n",
       "      <td>SEVILLA</td>\n",
       "      <td>MADRID</td>\n",
       "      <td>2019-06-01 19:45:00</td>\n",
       "      <td>2019-06-01 22:17:00</td>\n",
       "      <td>AVE</td>\n",
       "      <td>47.300000</td>\n",
       "      <td>Turista</td>\n",
       "      <td>Promo</td>\n",
       "    </tr>\n",
       "    <tr>\n",
       "      <th>215891</th>\n",
       "      <td>SEVILLA</td>\n",
       "      <td>MADRID</td>\n",
       "      <td>2019-06-01 21:00:00</td>\n",
       "      <td>2019-06-01 23:52:00</td>\n",
       "      <td>AV City</td>\n",
       "      <td>52.200000</td>\n",
       "      <td>Turista Plus</td>\n",
       "      <td>Promo</td>\n",
       "    </tr>\n",
       "    <tr>\n",
       "      <th>215892</th>\n",
       "      <td>MADRID</td>\n",
       "      <td>SEVILLA</td>\n",
       "      <td>2019-06-01 07:00:00</td>\n",
       "      <td>2019-06-01 09:55:00</td>\n",
       "      <td>AV City</td>\n",
       "      <td>58.950000</td>\n",
       "      <td>Turista Plus</td>\n",
       "      <td>Promo</td>\n",
       "    </tr>\n",
       "    <tr>\n",
       "      <th>215893</th>\n",
       "      <td>MADRID</td>\n",
       "      <td>SEVILLA</td>\n",
       "      <td>2019-06-01 08:00:00</td>\n",
       "      <td>2019-06-01 10:32:00</td>\n",
       "      <td>AVE</td>\n",
       "      <td>47.300000</td>\n",
       "      <td>Turista</td>\n",
       "      <td>Promo</td>\n",
       "    </tr>\n",
       "    <tr>\n",
       "      <th>215894</th>\n",
       "      <td>MADRID</td>\n",
       "      <td>SEVILLA</td>\n",
       "      <td>2019-06-01 08:30:00</td>\n",
       "      <td>2019-06-01 11:14:00</td>\n",
       "      <td>ALVIA</td>\n",
       "      <td>61.200000</td>\n",
       "      <td>Preferente</td>\n",
       "      <td>Promo</td>\n",
       "    </tr>\n",
       "    <tr>\n",
       "      <th>215895</th>\n",
       "      <td>MADRID</td>\n",
       "      <td>SEVILLA</td>\n",
       "      <td>2019-06-01 09:00:00</td>\n",
       "      <td>2019-06-01 11:38:00</td>\n",
       "      <td>AVE</td>\n",
       "      <td>53.400000</td>\n",
       "      <td>Turista</td>\n",
       "      <td>Promo</td>\n",
       "    </tr>\n",
       "    <tr>\n",
       "      <th>215896</th>\n",
       "      <td>MADRID</td>\n",
       "      <td>SEVILLA</td>\n",
       "      <td>2019-06-01 09:45:00</td>\n",
       "      <td>2019-06-01 12:27:00</td>\n",
       "      <td>INTERCITY</td>\n",
       "      <td>62.200000</td>\n",
       "      <td>Turista</td>\n",
       "      <td>Flexible</td>\n",
       "    </tr>\n",
       "    <tr>\n",
       "      <th>215897</th>\n",
       "      <td>MADRID</td>\n",
       "      <td>SEVILLA</td>\n",
       "      <td>2019-06-01 10:00:00</td>\n",
       "      <td>2019-06-01 12:32:00</td>\n",
       "      <td>AVE</td>\n",
       "      <td>53.400000</td>\n",
       "      <td>Turista</td>\n",
       "      <td>Promo</td>\n",
       "    </tr>\n",
       "    <tr>\n",
       "      <th>215898</th>\n",
       "      <td>MADRID</td>\n",
       "      <td>SEVILLA</td>\n",
       "      <td>2019-06-01 11:00:00</td>\n",
       "      <td>2019-06-01 13:32:00</td>\n",
       "      <td>AVE</td>\n",
       "      <td>61.450000</td>\n",
       "      <td>Preferente</td>\n",
       "      <td>Promo</td>\n",
       "    </tr>\n",
       "    <tr>\n",
       "      <th>215899</th>\n",
       "      <td>MADRID</td>\n",
       "      <td>SEVILLA</td>\n",
       "      <td>2019-06-01 11:05:00</td>\n",
       "      <td>2019-06-01 13:41:00</td>\n",
       "      <td>ALVIA</td>\n",
       "      <td>56.723877</td>\n",
       "      <td>Turista</td>\n",
       "      <td>Flexible</td>\n",
       "    </tr>\n",
       "    <tr>\n",
       "      <th>215900</th>\n",
       "      <td>MADRID</td>\n",
       "      <td>SEVILLA</td>\n",
       "      <td>2019-06-01 12:00:00</td>\n",
       "      <td>2019-06-01 14:32:00</td>\n",
       "      <td>AVE</td>\n",
       "      <td>76.300000</td>\n",
       "      <td>Turista</td>\n",
       "      <td>Flexible</td>\n",
       "    </tr>\n",
       "    <tr>\n",
       "      <th>215901</th>\n",
       "      <td>MADRID</td>\n",
       "      <td>SEVILLA</td>\n",
       "      <td>2019-06-01 13:30:00</td>\n",
       "      <td>2019-06-01 16:05:00</td>\n",
       "      <td>ALVIA</td>\n",
       "      <td>56.723877</td>\n",
       "      <td>Preferente</td>\n",
       "      <td>Promo</td>\n",
       "    </tr>\n",
       "    <tr>\n",
       "      <th>215902</th>\n",
       "      <td>MADRID</td>\n",
       "      <td>SEVILLA</td>\n",
       "      <td>2019-06-01 14:00:00</td>\n",
       "      <td>2019-06-01 16:32:00</td>\n",
       "      <td>AVE</td>\n",
       "      <td>61.450000</td>\n",
       "      <td>Preferente</td>\n",
       "      <td>Promo</td>\n",
       "    </tr>\n",
       "    <tr>\n",
       "      <th>215903</th>\n",
       "      <td>MADRID</td>\n",
       "      <td>SEVILLA</td>\n",
       "      <td>2019-06-01 16:00:00</td>\n",
       "      <td>2019-06-01 18:30:00</td>\n",
       "      <td>AVE</td>\n",
       "      <td>61.450000</td>\n",
       "      <td>Preferente</td>\n",
       "      <td>Promo</td>\n",
       "    </tr>\n",
       "    <tr>\n",
       "      <th>215904</th>\n",
       "      <td>MADRID</td>\n",
       "      <td>SEVILLA</td>\n",
       "      <td>2019-06-01 17:00:00</td>\n",
       "      <td>2019-06-01 19:38:00</td>\n",
       "      <td>AVE</td>\n",
       "      <td>47.300000</td>\n",
       "      <td>Turista</td>\n",
       "      <td>Promo</td>\n",
       "    </tr>\n",
       "    <tr>\n",
       "      <th>215905</th>\n",
       "      <td>MADRID</td>\n",
       "      <td>SEVILLA</td>\n",
       "      <td>2019-06-01 18:00:00</td>\n",
       "      <td>2019-06-01 20:32:00</td>\n",
       "      <td>AVE</td>\n",
       "      <td>47.300000</td>\n",
       "      <td>Turista</td>\n",
       "      <td>Promo</td>\n",
       "    </tr>\n",
       "    <tr>\n",
       "      <th>215906</th>\n",
       "      <td>MADRID</td>\n",
       "      <td>SEVILLA</td>\n",
       "      <td>2019-06-01 19:00:00</td>\n",
       "      <td>2019-06-01 21:38:00</td>\n",
       "      <td>AVE</td>\n",
       "      <td>47.300000</td>\n",
       "      <td>Turista</td>\n",
       "      <td>Promo</td>\n",
       "    </tr>\n",
       "    <tr>\n",
       "      <th>215907</th>\n",
       "      <td>MADRID</td>\n",
       "      <td>SEVILLA</td>\n",
       "      <td>2019-06-01 20:35:00</td>\n",
       "      <td>2019-06-01 23:15:00</td>\n",
       "      <td>AVE</td>\n",
       "      <td>47.300000</td>\n",
       "      <td>Turista</td>\n",
       "      <td>Promo</td>\n",
       "    </tr>\n",
       "    <tr>\n",
       "      <th>215908</th>\n",
       "      <td>MADRID</td>\n",
       "      <td>SEVILLA</td>\n",
       "      <td>2019-06-01 21:25:00</td>\n",
       "      <td>2019-06-02 00:10:00</td>\n",
       "      <td>AV City</td>\n",
       "      <td>52.200000</td>\n",
       "      <td>Turista Plus</td>\n",
       "      <td>Promo</td>\n",
       "    </tr>\n",
       "  </tbody>\n",
       "</table>\n",
       "<p>215266 rows × 8 columns</p>\n",
       "</div>"
      ],
      "text/plain": [
       "            origin destination           start_date             end_date  \\\n",
       "0       PONFERRADA      MADRID  2019-06-02 15:00:00  2019-06-02 19:42:00   \n",
       "1       PONFERRADA      MADRID  2019-06-02 17:15:00  2019-06-02 23:03:00   \n",
       "2       PONFERRADA      MADRID  2019-06-02 17:15:00  2019-06-02 23:10:00   \n",
       "3       PONFERRADA      MADRID  2019-06-02 17:15:00  2019-06-02 22:14:00   \n",
       "4       PONFERRADA      MADRID  2019-06-02 18:55:00  2019-06-02 23:03:00   \n",
       "5           MADRID    VALENCIA  2019-06-17 06:08:00  2019-06-17 12:55:00   \n",
       "6           MADRID    VALENCIA  2019-06-17 12:21:00  2019-06-17 19:04:00   \n",
       "7           MADRID    VALENCIA  2019-06-17 16:05:00  2019-06-17 22:47:00   \n",
       "8           MADRID    VALENCIA  2019-06-16 06:20:00  2019-06-16 12:55:00   \n",
       "9           MADRID    VALENCIA  2019-06-16 12:42:00  2019-06-16 19:04:00   \n",
       "10          MADRID    VALENCIA  2019-06-16 16:30:00  2019-06-16 22:47:00   \n",
       "11          MADRID    VALENCIA  2019-06-15 08:00:00  2019-06-15 14:10:00   \n",
       "12          MADRID    VALENCIA  2019-06-15 16:30:00  2019-06-15 22:47:00   \n",
       "13          MADRID    VALENCIA  2019-06-14 06:08:00  2019-06-14 12:55:00   \n",
       "14          MADRID    VALENCIA  2019-06-14 12:21:00  2019-06-14 19:04:00   \n",
       "15          MADRID    VALENCIA  2019-06-14 16:30:00  2019-06-14 22:47:00   \n",
       "16          MADRID    VALENCIA  2019-06-13 06:08:00  2019-06-13 12:55:00   \n",
       "17          MADRID    VALENCIA  2019-06-13 12:21:00  2019-06-13 19:04:00   \n",
       "18          MADRID    VALENCIA  2019-06-13 16:05:00  2019-06-13 22:47:00   \n",
       "19          MADRID    VALENCIA  2019-06-12 06:08:00  2019-06-12 12:55:00   \n",
       "20          MADRID    VALENCIA  2019-06-12 12:21:00  2019-06-12 19:04:00   \n",
       "21          MADRID    VALENCIA  2019-06-12 16:05:00  2019-06-12 22:47:00   \n",
       "22          MADRID    VALENCIA  2019-06-11 06:08:00  2019-06-11 12:55:00   \n",
       "23          MADRID    VALENCIA  2019-06-11 12:21:00  2019-06-11 19:04:00   \n",
       "24          MADRID    VALENCIA  2019-06-11 16:05:00  2019-06-11 22:47:00   \n",
       "25          MADRID    VALENCIA  2019-06-10 06:08:00  2019-06-10 12:55:00   \n",
       "26          MADRID    VALENCIA  2019-06-10 12:21:00  2019-06-10 19:04:00   \n",
       "27          MADRID    VALENCIA  2019-06-10 16:05:00  2019-06-10 22:47:00   \n",
       "28          MADRID    VALENCIA  2019-06-09 06:20:00  2019-06-09 12:55:00   \n",
       "29          MADRID    VALENCIA  2019-06-09 12:42:00  2019-06-09 19:04:00   \n",
       "...            ...         ...                  ...                  ...   \n",
       "215879     SEVILLA      MADRID  2019-06-01 09:40:00  2019-06-01 12:23:00   \n",
       "215880     SEVILLA      MADRID  2019-06-01 09:50:00  2019-06-01 12:36:00   \n",
       "215881     SEVILLA      MADRID  2019-06-01 10:45:00  2019-06-01 13:17:00   \n",
       "215882     SEVILLA      MADRID  2019-06-01 11:45:00  2019-06-01 14:17:00   \n",
       "215883     SEVILLA      MADRID  2019-06-01 12:18:00  2019-06-01 14:56:00   \n",
       "215884     SEVILLA      MADRID  2019-06-01 13:40:00  2019-06-01 16:10:00   \n",
       "215885     SEVILLA      MADRID  2019-06-01 14:58:00  2019-06-01 17:50:00   \n",
       "215886     SEVILLA      MADRID  2019-06-01 15:45:00  2019-06-01 18:15:00   \n",
       "215887     SEVILLA      MADRID  2019-06-01 16:45:00  2019-06-01 19:17:00   \n",
       "215888     SEVILLA      MADRID  2019-06-01 17:45:00  2019-06-01 20:17:00   \n",
       "215889     SEVILLA      MADRID  2019-06-01 18:45:00  2019-06-01 21:17:00   \n",
       "215890     SEVILLA      MADRID  2019-06-01 19:45:00  2019-06-01 22:17:00   \n",
       "215891     SEVILLA      MADRID  2019-06-01 21:00:00  2019-06-01 23:52:00   \n",
       "215892      MADRID     SEVILLA  2019-06-01 07:00:00  2019-06-01 09:55:00   \n",
       "215893      MADRID     SEVILLA  2019-06-01 08:00:00  2019-06-01 10:32:00   \n",
       "215894      MADRID     SEVILLA  2019-06-01 08:30:00  2019-06-01 11:14:00   \n",
       "215895      MADRID     SEVILLA  2019-06-01 09:00:00  2019-06-01 11:38:00   \n",
       "215896      MADRID     SEVILLA  2019-06-01 09:45:00  2019-06-01 12:27:00   \n",
       "215897      MADRID     SEVILLA  2019-06-01 10:00:00  2019-06-01 12:32:00   \n",
       "215898      MADRID     SEVILLA  2019-06-01 11:00:00  2019-06-01 13:32:00   \n",
       "215899      MADRID     SEVILLA  2019-06-01 11:05:00  2019-06-01 13:41:00   \n",
       "215900      MADRID     SEVILLA  2019-06-01 12:00:00  2019-06-01 14:32:00   \n",
       "215901      MADRID     SEVILLA  2019-06-01 13:30:00  2019-06-01 16:05:00   \n",
       "215902      MADRID     SEVILLA  2019-06-01 14:00:00  2019-06-01 16:32:00   \n",
       "215903      MADRID     SEVILLA  2019-06-01 16:00:00  2019-06-01 18:30:00   \n",
       "215904      MADRID     SEVILLA  2019-06-01 17:00:00  2019-06-01 19:38:00   \n",
       "215905      MADRID     SEVILLA  2019-06-01 18:00:00  2019-06-01 20:32:00   \n",
       "215906      MADRID     SEVILLA  2019-06-01 19:00:00  2019-06-01 21:38:00   \n",
       "215907      MADRID     SEVILLA  2019-06-01 20:35:00  2019-06-01 23:15:00   \n",
       "215908      MADRID     SEVILLA  2019-06-01 21:25:00  2019-06-02 00:10:00   \n",
       "\n",
       "       train_type      price         train_class        fare  \n",
       "0          MD-AVE  59.500000  Turista con enlace    Flexible  \n",
       "1          MD-AVE  34.650000  Turista con enlace     Promo +  \n",
       "2           MD-LD  39.950000  Turista con enlace     Promo +  \n",
       "3          MD-AVE  40.600000  Turista con enlace     Promo +  \n",
       "4           ALVIA  27.900000             Turista       Promo  \n",
       "5        REGIONAL  28.350000             Turista  Adulto ida  \n",
       "6        REGIONAL  28.350000             Turista  Adulto ida  \n",
       "7        REGIONAL  28.350000             Turista  Adulto ida  \n",
       "8        REGIONAL  28.350000             Turista  Adulto ida  \n",
       "9        REGIONAL  28.350000             Turista  Adulto ida  \n",
       "10       REGIONAL  28.350000             Turista  Adulto ida  \n",
       "11       REGIONAL  28.350000             Turista  Adulto ida  \n",
       "12       REGIONAL  28.350000             Turista  Adulto ida  \n",
       "13       REGIONAL  28.350000             Turista  Adulto ida  \n",
       "14       REGIONAL  28.350000             Turista  Adulto ida  \n",
       "15       REGIONAL  28.350000             Turista  Adulto ida  \n",
       "16       REGIONAL  28.350000             Turista  Adulto ida  \n",
       "17       REGIONAL  28.350000             Turista  Adulto ida  \n",
       "18       REGIONAL  28.350000             Turista  Adulto ida  \n",
       "19       REGIONAL  28.350000             Turista  Adulto ida  \n",
       "20       REGIONAL  28.350000             Turista  Adulto ida  \n",
       "21       REGIONAL  28.350000             Turista  Adulto ida  \n",
       "22       REGIONAL  28.350000             Turista  Adulto ida  \n",
       "23       REGIONAL  28.350000             Turista  Adulto ida  \n",
       "24       REGIONAL  28.350000             Turista  Adulto ida  \n",
       "25       REGIONAL  28.350000             Turista  Adulto ida  \n",
       "26       REGIONAL  28.350000             Turista  Adulto ida  \n",
       "27       REGIONAL  28.350000             Turista  Adulto ida  \n",
       "28       REGIONAL  28.350000             Turista  Adulto ida  \n",
       "29       REGIONAL  28.350000             Turista  Adulto ida  \n",
       "...           ...        ...                 ...         ...  \n",
       "215879        AVE  76.300000             Turista    Flexible  \n",
       "215880      ALVIA  87.400000          Preferente    Flexible  \n",
       "215881        AVE  61.450000          Preferente       Promo  \n",
       "215882        AVE  47.300000             Turista       Promo  \n",
       "215883      ALVIA  56.723877             Turista       Promo  \n",
       "215884        AVE  47.300000             Turista       Promo  \n",
       "215885      ALVIA  47.050000             Turista       Promo  \n",
       "215886        AVE  53.400000             Turista       Promo  \n",
       "215887        AVE  53.400000             Turista       Promo  \n",
       "215888        AVE  60.300000             Turista       Promo  \n",
       "215889        AVE  61.450000          Preferente       Promo  \n",
       "215890        AVE  47.300000             Turista       Promo  \n",
       "215891    AV City  52.200000        Turista Plus       Promo  \n",
       "215892    AV City  58.950000        Turista Plus       Promo  \n",
       "215893        AVE  47.300000             Turista       Promo  \n",
       "215894      ALVIA  61.200000          Preferente       Promo  \n",
       "215895        AVE  53.400000             Turista       Promo  \n",
       "215896  INTERCITY  62.200000             Turista    Flexible  \n",
       "215897        AVE  53.400000             Turista       Promo  \n",
       "215898        AVE  61.450000          Preferente       Promo  \n",
       "215899      ALVIA  56.723877             Turista    Flexible  \n",
       "215900        AVE  76.300000             Turista    Flexible  \n",
       "215901      ALVIA  56.723877          Preferente       Promo  \n",
       "215902        AVE  61.450000          Preferente       Promo  \n",
       "215903        AVE  61.450000          Preferente       Promo  \n",
       "215904        AVE  47.300000             Turista       Promo  \n",
       "215905        AVE  47.300000             Turista       Promo  \n",
       "215906        AVE  47.300000             Turista       Promo  \n",
       "215907        AVE  47.300000             Turista       Promo  \n",
       "215908    AV City  52.200000        Turista Plus       Promo  \n",
       "\n",
       "[215266 rows x 8 columns]"
      ]
     },
     "execution_count": 14,
     "metadata": {},
     "output_type": "execute_result"
    }
   ],
   "source": [
    "#write code here\n",
    "df.drop(['insert_date'],axis=1)"
   ]
  },
  {
   "cell_type": "markdown",
   "metadata": {},
   "source": [
    "**Check null values again in dataset**"
   ]
  },
  {
   "cell_type": "code",
   "execution_count": 15,
   "metadata": {},
   "outputs": [
    {
     "data": {
      "text/plain": [
       "insert_date    0\n",
       "origin         0\n",
       "destination    0\n",
       "start_date     0\n",
       "end_date       0\n",
       "train_type     0\n",
       "price          0\n",
       "train_class    0\n",
       "fare           0\n",
       "dtype: int64"
      ]
     },
     "execution_count": 15,
     "metadata": {},
     "output_type": "execute_result"
    }
   ],
   "source": [
    "#write code here\n",
    "df.isnull().sum()"
   ]
  },
  {
   "cell_type": "markdown",
   "metadata": {},
   "source": [
    "#### **Task 12: Plot number of people boarding from different stations**\n"
   ]
  },
  {
   "cell_type": "code",
   "execution_count": 16,
   "metadata": {},
   "outputs": [
    {
     "data": {
      "text/plain": [
       "<matplotlib.axes._subplots.AxesSubplot at 0x23f0375e0b8>"
      ]
     },
     "execution_count": 16,
     "metadata": {},
     "output_type": "execute_result"
    },
    {
     "data": {
      "image/png": "[encoded data removed]",
      "text/plain": [
       "<Figure size 432x288 with 1 Axes>"
      ]
     },
     "metadata": {
      "needs_background": "light"
     },
     "output_type": "display_data"
    }
   ],
   "source": [
    "#write code here\n",
    "sns.countplot(x='origin',data=df)"
   ]
  },
  {
   "cell_type": "markdown",
   "metadata": {},
   "source": [
    "**Question: What insights do you get from the above plot?**"
   ]
  },
  {
   "cell_type": "markdown",
   "metadata": {},
   "source": [
    "**Answer:**\n",
    "    Majority of people come from Madrid then second highest number is from barcelona then Valencia then Sevilla origin \n",
    "    and a very small portion of people boarded from Ponferrada station\n"
   ]
  },
  {
   "cell_type": "markdown",
   "metadata": {},
   "source": [
    "#### **Task 13: Plot number of people for the destination stations**\n"
   ]
  },
  {
   "cell_type": "code",
   "execution_count": 17,
   "metadata": {},
   "outputs": [
    {
     "data": {
      "text/plain": [
       "<matplotlib.axes._subplots.AxesSubplot at 0x23f039efdd8>"
      ]
     },
     "execution_count": 17,
     "metadata": {},
     "output_type": "execute_result"
    },
    {
     "data": {
      "image/png": "[encoded data removed]",
      "text/plain": [
       "<Figure size 432x288 with 1 Axes>"
      ]
     },
     "metadata": {
      "needs_background": "light"
     },
     "output_type": "display_data"
    }
   ],
   "source": [
    "#write code here\n",
    "sns.countplot(x='destination',data=df)"
   ]
  },
  {
   "cell_type": "markdown",
   "metadata": {},
   "source": [
    "**Question: What insights do you get from the above graph?**"
   ]
  },
  {
   "cell_type": "markdown",
   "metadata": {},
   "source": [
    "**Answer:**\n",
    "    \n",
    "    The graph shows that majority of people will go to madrid station second highest no of people will go to barcelona \n",
    "    third largest number of people will go to valencia then sevilla station and a very small portion of people will go to \n",
    "    ponferrada"
   ]
  },
  {
   "cell_type": "markdown",
   "metadata": {},
   "source": [
    "#### **Task 14: Plot different types of train that runs in Spain**\n"
   ]
  },
  {
   "cell_type": "code",
   "execution_count": 18,
   "metadata": {},
   "outputs": [
    {
     "data": {
      "text/plain": [
       "<matplotlib.axes._subplots.AxesSubplot at 0x23f03a497f0>"
      ]
     },
     "execution_count": 18,
     "metadata": {},
     "output_type": "execute_result"
    },
    {
     "data": {
      "image/png": "[encoded data removed]",
      "text/plain": [
       "<Figure size 1080x360 with 1 Axes>"
      ]
     },
     "metadata": {
      "needs_background": "light"
     },
     "output_type": "display_data"
    }
   ],
   "source": [
    "#write code here\n",
    "plt.figure(figsize=(15,5))\n",
    "sns.countplot(x='train_type',data=df)"
   ]
  },
  {
   "cell_type": "markdown",
   "metadata": {},
   "source": [
    "**Question: Which train runs the maximum in number as compared to other train types?**"
   ]
  },
  {
   "cell_type": "markdown",
   "metadata": {},
   "source": [
    "**Answer:** \n",
    "\n",
    "    The highest number of train type is AVE then Regional trains are maximum in size"
   ]
  },
  {
   "cell_type": "markdown",
   "metadata": {},
   "source": [
    "#### **Task 15: Plot number of trains of different class**\n"
   ]
  },
  {
   "cell_type": "code",
   "execution_count": 19,
   "metadata": {},
   "outputs": [
    {
     "data": {
      "text/plain": [
       "<matplotlib.axes._subplots.AxesSubplot at 0x23f03ad8e80>"
      ]
     },
     "execution_count": 19,
     "metadata": {},
     "output_type": "execute_result"
    },
    {
     "data": {
      "image/png": "[encoded data removed]",
      "text/plain": [
       "<Figure size 432x288 with 1 Axes>"
      ]
     },
     "metadata": {
      "needs_background": "light"
     },
     "output_type": "display_data"
    }
   ],
   "source": [
    "#write code here\n",
    "sns.countplot(x='train_class',data=df)"
   ]
  },
  {
   "cell_type": "markdown",
   "metadata": {},
   "source": [
    "**Question: Which the most common train class for traveling among people in general?**"
   ]
  },
  {
   "cell_type": "markdown",
   "metadata": {},
   "source": [
    "**Answer:** \n",
    "\n",
    "    Turista is the most common train class among people"
   ]
  },
  {
   "cell_type": "markdown",
   "metadata": {},
   "source": [
    "#### **Task 16: Plot number of tickets bought from each category**\n"
   ]
  },
  {
   "cell_type": "code",
   "execution_count": 20,
   "metadata": {},
   "outputs": [
    {
     "data": {
      "text/plain": [
       "<matplotlib.axes._subplots.AxesSubplot at 0x23f03b36c88>"
      ]
     },
     "execution_count": 20,
     "metadata": {},
     "output_type": "execute_result"
    },
    {
     "data": {
      "image/png": "[encoded data removed]",
      "text/plain": [
       "<Figure size 432x288 with 1 Axes>"
      ]
     },
     "metadata": {
      "needs_background": "light"
     },
     "output_type": "display_data"
    }
   ],
   "source": [
    "#write code here\n",
    "sns.countplot(x='fare',data=df)"
   ]
  },
  {
   "cell_type": "markdown",
   "metadata": {},
   "source": [
    "**Question: Which the most common tickets are bought?**"
   ]
  },
  {
   "cell_type": "markdown",
   "metadata": {},
   "source": [
    "**Answer:** \n",
    "    \n",
    "    Promo fare is most common among all categories second largest portion is from Adulto ida"
   ]
  },
  {
   "cell_type": "markdown",
   "metadata": {},
   "source": [
    "#### **Task 17: Plot distribution of the ticket prices**"
   ]
  },
  {
   "cell_type": "code",
   "execution_count": 21,
   "metadata": {},
   "outputs": [
    {
     "data": {
      "image/png": "[encoded data removed]",
      "text/plain": [
       "<Figure size 720x432 with 1 Axes>"
      ]
     },
     "metadata": {
      "needs_background": "light"
     },
     "output_type": "display_data"
    }
   ],
   "source": [
    "#write code here\n",
    "plt.figure(figsize=(10, 6))\n",
    "sns.distplot(a=df[['price']])\n",
    "plt.xlabel('Price', fontsize=15)\n",
    "plt.title('Distribution of Ticket Price')\n",
    "plt.show()"
   ]
  },
  {
   "cell_type": "markdown",
   "metadata": {},
   "source": [
    "**Question: What readings can you get from the above plot?**"
   ]
  },
  {
   "cell_type": "markdown",
   "metadata": {},
   "source": [
    "**Answer:**  \n",
    "    \n",
    "    65000 people buy 25 rupees ticket 40,000 people buy 50 rupees tickets 48000 people buy 75 rupees tickets 47000 \n",
    "    people buy up to 90 rupee ticket 18000 people buy 100 rupee ticket and a very small portion of people buy 125 \n",
    "    rupee ticket"
   ]
  },
  {
   "cell_type": "markdown",
   "metadata": {},
   "source": [
    "###### **Task 18: Show train_class vs price through boxplot**"
   ]
  },
  {
   "cell_type": "code",
   "execution_count": 22,
   "metadata": {},
   "outputs": [
    {
     "data": {
      "image/png": "[encoded data removed]",
      "text/plain": [
       "<Figure size 432x288 with 1 Axes>"
      ]
     },
     "metadata": {
      "needs_background": "light"
     },
     "output_type": "display_data"
    }
   ],
   "source": [
    "#write code here\n",
    "sns.boxplot(x='train_class',y='price',data=df)\n",
    "plt.show()"
   ]
  },
  {
   "cell_type": "markdown",
   "metadata": {},
   "source": [
    "**Question: What pricing trends can you find out by looking at the plot above?**"
   ]
  },
  {
   "cell_type": "markdown",
   "metadata": {},
   "source": [
    "**Answer:**\n",
    "    \n",
    "    Turista and Turista plus class people maximum expensive ticket ranges to 125.turiata plus and turistaa con enlance classes\n",
    "    are right skewed while turista class is left skewed."
   ]
  },
  {
   "cell_type": "markdown",
   "metadata": {},
   "source": [
    "#### **Task 19: Show train_type vs price through boxplot**\n"
   ]
  },
  {
   "cell_type": "code",
   "execution_count": 23,
   "metadata": {},
   "outputs": [
    {
     "data": {
      "text/plain": [
       "<matplotlib.axes._subplots.AxesSubplot at 0x23f04aad940>"
      ]
     },
     "execution_count": 23,
     "metadata": {},
     "output_type": "execute_result"
    },
    {
     "data": {
      "image/png": "[encoded data removed]",
      "text/plain": [
       "<Figure size 1440x720 with 1 Axes>"
      ]
     },
     "metadata": {
      "needs_background": "light"
     },
     "output_type": "display_data"
    }
   ],
   "source": [
    "#write code here\n",
    "plt.figure(figsize=(20,10))\n",
    "sns.boxplot(x='train_type',y='price',data=df)"
   ]
  },
  {
   "cell_type": "markdown",
   "metadata": {},
   "source": [
    "**Question: Which type of trains cost more as compared to others?**"
   ]
  },
  {
   "cell_type": "markdown",
   "metadata": {},
   "source": [
    "**Answer:** \n",
    "\n",
    "   AVE and AVE-TGV trains are the most costly among all"
   ]
  },
  {
   "cell_type": "markdown",
   "metadata": {},
   "source": [
    "## Feature Engineering\n"
   ]
  },
  {
   "cell_type": "code",
   "execution_count": 24,
   "metadata": {},
   "outputs": [],
   "source": [
    "df = df.reset_index()"
   ]
  },
  {
   "cell_type": "markdown",
   "metadata": {},
   "source": [
    "**Finding the travel time between the place of origin and destination**<br>\n",
    "We need to find out the travel time for each entry which can be obtained from the 'start_date' and 'end_date' column. Also if you see, these columns are in object type therefore datetimeFormat should be defined to perform the necessary operation of getting the required time."
   ]
  },
  {
   "cell_type": "markdown",
   "metadata": {},
   "source": [
    "**Import datetime library**"
   ]
  },
  {
   "cell_type": "code",
   "execution_count": 25,
   "metadata": {},
   "outputs": [],
   "source": [
    "#write code here\n",
    "import datetime"
   ]
  },
  {
   "cell_type": "code",
   "execution_count": 26,
   "metadata": {},
   "outputs": [],
   "source": [
    "datetimeFormat = '%Y-%m-%d %H:%M:%S'\n",
    "def fun(a,b):\n",
    "    diff = datetime.datetime.strptime(b, datetimeFormat)- datetime.datetime.strptime(a, datetimeFormat)\n",
    "    return(diff.seconds/3600.0)                  \n",
    "    "
   ]
  },
  {
   "cell_type": "code",
   "execution_count": 27,
   "metadata": {},
   "outputs": [],
   "source": [
    "df['travel_time_in_hrs'] = df.apply(lambda x:fun(x['start_date'],x['end_date']),axis=1) "
   ]
  },
  {
   "cell_type": "code",
   "execution_count": 28,
   "metadata": {},
   "outputs": [
    {
     "data": {
      "text/plain": [
       "{('BARCELONA', 'MADRID'),\n",
       " ('MADRID', 'BARCELONA'),\n",
       " ('MADRID', 'PONFERRADA'),\n",
       " ('MADRID', 'SEVILLA'),\n",
       " ('MADRID', 'VALENCIA'),\n",
       " ('PONFERRADA', 'MADRID'),\n",
       " ('SEVILLA', 'MADRID'),\n",
       " ('VALENCIA', 'MADRID')}"
      ]
     },
     "execution_count": 28,
     "metadata": {},
     "output_type": "execute_result"
    }
   ],
   "source": [
    "set(zip(df['origin'], df['destination']))"
   ]
  },
  {
   "cell_type": "code",
   "execution_count": 29,
   "metadata": {},
   "outputs": [
    {
     "data": {
      "text/html": [
       "<div>\n",
       "<style scoped>\n",
       "    .dataframe tbody tr th:only-of-type {\n",
       "        vertical-align: middle;\n",
       "    }\n",
       "\n",
       "    .dataframe tbody tr th {\n",
       "        vertical-align: top;\n",
       "    }\n",
       "\n",
       "    .dataframe thead th {\n",
       "        text-align: right;\n",
       "    }\n",
       "</style>\n",
       "<table border=\"1\" class=\"dataframe\">\n",
       "  <thead>\n",
       "    <tr style=\"text-align: right;\">\n",
       "      <th></th>\n",
       "      <th>index</th>\n",
       "      <th>insert_date</th>\n",
       "      <th>origin</th>\n",
       "      <th>destination</th>\n",
       "      <th>start_date</th>\n",
       "      <th>end_date</th>\n",
       "      <th>train_type</th>\n",
       "      <th>price</th>\n",
       "      <th>train_class</th>\n",
       "      <th>fare</th>\n",
       "      <th>travel_time_in_hrs</th>\n",
       "      <th>from_to</th>\n",
       "    </tr>\n",
       "  </thead>\n",
       "  <tbody>\n",
       "    <tr>\n",
       "      <th>0</th>\n",
       "      <td>0</td>\n",
       "      <td>2019-04-19 05:37:35</td>\n",
       "      <td>PONFERRADA</td>\n",
       "      <td>MADRID</td>\n",
       "      <td>2019-06-02 15:00:00</td>\n",
       "      <td>2019-06-02 19:42:00</td>\n",
       "      <td>MD-AVE</td>\n",
       "      <td>59.50</td>\n",
       "      <td>Turista con enlace</td>\n",
       "      <td>Flexible</td>\n",
       "      <td>4.700000</td>\n",
       "      <td>ponf to madrid</td>\n",
       "    </tr>\n",
       "    <tr>\n",
       "      <th>1</th>\n",
       "      <td>1</td>\n",
       "      <td>2019-04-19 05:37:35</td>\n",
       "      <td>PONFERRADA</td>\n",
       "      <td>MADRID</td>\n",
       "      <td>2019-06-02 17:15:00</td>\n",
       "      <td>2019-06-02 23:03:00</td>\n",
       "      <td>MD-AVE</td>\n",
       "      <td>34.65</td>\n",
       "      <td>Turista con enlace</td>\n",
       "      <td>Promo +</td>\n",
       "      <td>5.800000</td>\n",
       "      <td>ponf to madrid</td>\n",
       "    </tr>\n",
       "    <tr>\n",
       "      <th>2</th>\n",
       "      <td>2</td>\n",
       "      <td>2019-04-19 05:37:35</td>\n",
       "      <td>PONFERRADA</td>\n",
       "      <td>MADRID</td>\n",
       "      <td>2019-06-02 17:15:00</td>\n",
       "      <td>2019-06-02 23:10:00</td>\n",
       "      <td>MD-LD</td>\n",
       "      <td>39.95</td>\n",
       "      <td>Turista con enlace</td>\n",
       "      <td>Promo +</td>\n",
       "      <td>5.916667</td>\n",
       "      <td>ponf to madrid</td>\n",
       "    </tr>\n",
       "    <tr>\n",
       "      <th>3</th>\n",
       "      <td>3</td>\n",
       "      <td>2019-04-19 05:37:35</td>\n",
       "      <td>PONFERRADA</td>\n",
       "      <td>MADRID</td>\n",
       "      <td>2019-06-02 17:15:00</td>\n",
       "      <td>2019-06-02 22:14:00</td>\n",
       "      <td>MD-AVE</td>\n",
       "      <td>40.60</td>\n",
       "      <td>Turista con enlace</td>\n",
       "      <td>Promo +</td>\n",
       "      <td>4.983333</td>\n",
       "      <td>ponf to madrid</td>\n",
       "    </tr>\n",
       "    <tr>\n",
       "      <th>4</th>\n",
       "      <td>4</td>\n",
       "      <td>2019-04-19 05:37:35</td>\n",
       "      <td>PONFERRADA</td>\n",
       "      <td>MADRID</td>\n",
       "      <td>2019-06-02 18:55:00</td>\n",
       "      <td>2019-06-02 23:03:00</td>\n",
       "      <td>ALVIA</td>\n",
       "      <td>27.90</td>\n",
       "      <td>Turista</td>\n",
       "      <td>Promo</td>\n",
       "      <td>4.133333</td>\n",
       "      <td>ponf to madrid</td>\n",
       "    </tr>\n",
       "    <tr>\n",
       "      <th>5</th>\n",
       "      <td>5</td>\n",
       "      <td>2019-04-19 05:41:52</td>\n",
       "      <td>MADRID</td>\n",
       "      <td>VALENCIA</td>\n",
       "      <td>2019-06-17 06:08:00</td>\n",
       "      <td>2019-06-17 12:55:00</td>\n",
       "      <td>REGIONAL</td>\n",
       "      <td>28.35</td>\n",
       "      <td>Turista</td>\n",
       "      <td>Adulto ida</td>\n",
       "      <td>6.783333</td>\n",
       "      <td>madrid to val</td>\n",
       "    </tr>\n",
       "    <tr>\n",
       "      <th>6</th>\n",
       "      <td>6</td>\n",
       "      <td>2019-04-19 05:41:52</td>\n",
       "      <td>MADRID</td>\n",
       "      <td>VALENCIA</td>\n",
       "      <td>2019-06-17 12:21:00</td>\n",
       "      <td>2019-06-17 19:04:00</td>\n",
       "      <td>REGIONAL</td>\n",
       "      <td>28.35</td>\n",
       "      <td>Turista</td>\n",
       "      <td>Adulto ida</td>\n",
       "      <td>6.716667</td>\n",
       "      <td>madrid to val</td>\n",
       "    </tr>\n",
       "    <tr>\n",
       "      <th>7</th>\n",
       "      <td>7</td>\n",
       "      <td>2019-04-19 05:41:52</td>\n",
       "      <td>MADRID</td>\n",
       "      <td>VALENCIA</td>\n",
       "      <td>2019-06-17 16:05:00</td>\n",
       "      <td>2019-06-17 22:47:00</td>\n",
       "      <td>REGIONAL</td>\n",
       "      <td>28.35</td>\n",
       "      <td>Turista</td>\n",
       "      <td>Adulto ida</td>\n",
       "      <td>6.700000</td>\n",
       "      <td>madrid to val</td>\n",
       "    </tr>\n",
       "    <tr>\n",
       "      <th>8</th>\n",
       "      <td>8</td>\n",
       "      <td>2019-04-19 05:42:00</td>\n",
       "      <td>MADRID</td>\n",
       "      <td>VALENCIA</td>\n",
       "      <td>2019-06-16 06:20:00</td>\n",
       "      <td>2019-06-16 12:55:00</td>\n",
       "      <td>REGIONAL</td>\n",
       "      <td>28.35</td>\n",
       "      <td>Turista</td>\n",
       "      <td>Adulto ida</td>\n",
       "      <td>6.583333</td>\n",
       "      <td>madrid to val</td>\n",
       "    </tr>\n",
       "    <tr>\n",
       "      <th>9</th>\n",
       "      <td>9</td>\n",
       "      <td>2019-04-19 05:42:00</td>\n",
       "      <td>MADRID</td>\n",
       "      <td>VALENCIA</td>\n",
       "      <td>2019-06-16 12:42:00</td>\n",
       "      <td>2019-06-16 19:04:00</td>\n",
       "      <td>REGIONAL</td>\n",
       "      <td>28.35</td>\n",
       "      <td>Turista</td>\n",
       "      <td>Adulto ida</td>\n",
       "      <td>6.366667</td>\n",
       "      <td>madrid to val</td>\n",
       "    </tr>\n",
       "    <tr>\n",
       "      <th>10</th>\n",
       "      <td>10</td>\n",
       "      <td>2019-04-19 05:42:00</td>\n",
       "      <td>MADRID</td>\n",
       "      <td>VALENCIA</td>\n",
       "      <td>2019-06-16 16:30:00</td>\n",
       "      <td>2019-06-16 22:47:00</td>\n",
       "      <td>REGIONAL</td>\n",
       "      <td>28.35</td>\n",
       "      <td>Turista</td>\n",
       "      <td>Adulto ida</td>\n",
       "      <td>6.283333</td>\n",
       "      <td>madrid to val</td>\n",
       "    </tr>\n",
       "    <tr>\n",
       "      <th>11</th>\n",
       "      <td>11</td>\n",
       "      <td>2019-04-19 05:42:09</td>\n",
       "      <td>MADRID</td>\n",
       "      <td>VALENCIA</td>\n",
       "      <td>2019-06-15 08:00:00</td>\n",
       "      <td>2019-06-15 14:10:00</td>\n",
       "      <td>REGIONAL</td>\n",
       "      <td>28.35</td>\n",
       "      <td>Turista</td>\n",
       "      <td>Adulto ida</td>\n",
       "      <td>6.166667</td>\n",
       "      <td>madrid to val</td>\n",
       "    </tr>\n",
       "    <tr>\n",
       "      <th>12</th>\n",
       "      <td>12</td>\n",
       "      <td>2019-04-19 05:42:09</td>\n",
       "      <td>MADRID</td>\n",
       "      <td>VALENCIA</td>\n",
       "      <td>2019-06-15 16:30:00</td>\n",
       "      <td>2019-06-15 22:47:00</td>\n",
       "      <td>REGIONAL</td>\n",
       "      <td>28.35</td>\n",
       "      <td>Turista</td>\n",
       "      <td>Adulto ida</td>\n",
       "      <td>6.283333</td>\n",
       "      <td>madrid to val</td>\n",
       "    </tr>\n",
       "    <tr>\n",
       "      <th>13</th>\n",
       "      <td>13</td>\n",
       "      <td>2019-04-19 05:42:10</td>\n",
       "      <td>MADRID</td>\n",
       "      <td>VALENCIA</td>\n",
       "      <td>2019-06-14 06:08:00</td>\n",
       "      <td>2019-06-14 12:55:00</td>\n",
       "      <td>REGIONAL</td>\n",
       "      <td>28.35</td>\n",
       "      <td>Turista</td>\n",
       "      <td>Adulto ida</td>\n",
       "      <td>6.783333</td>\n",
       "      <td>madrid to val</td>\n",
       "    </tr>\n",
       "    <tr>\n",
       "      <th>14</th>\n",
       "      <td>14</td>\n",
       "      <td>2019-04-19 05:42:10</td>\n",
       "      <td>MADRID</td>\n",
       "      <td>VALENCIA</td>\n",
       "      <td>2019-06-14 12:21:00</td>\n",
       "      <td>2019-06-14 19:04:00</td>\n",
       "      <td>REGIONAL</td>\n",
       "      <td>28.35</td>\n",
       "      <td>Turista</td>\n",
       "      <td>Adulto ida</td>\n",
       "      <td>6.716667</td>\n",
       "      <td>madrid to val</td>\n",
       "    </tr>\n",
       "    <tr>\n",
       "      <th>15</th>\n",
       "      <td>15</td>\n",
       "      <td>2019-04-19 05:42:10</td>\n",
       "      <td>MADRID</td>\n",
       "      <td>VALENCIA</td>\n",
       "      <td>2019-06-14 16:30:00</td>\n",
       "      <td>2019-06-14 22:47:00</td>\n",
       "      <td>REGIONAL</td>\n",
       "      <td>28.35</td>\n",
       "      <td>Turista</td>\n",
       "      <td>Adulto ida</td>\n",
       "      <td>6.283333</td>\n",
       "      <td>madrid to val</td>\n",
       "    </tr>\n",
       "    <tr>\n",
       "      <th>16</th>\n",
       "      <td>16</td>\n",
       "      <td>2019-04-19 05:42:15</td>\n",
       "      <td>MADRID</td>\n",
       "      <td>VALENCIA</td>\n",
       "      <td>2019-06-13 06:08:00</td>\n",
       "      <td>2019-06-13 12:55:00</td>\n",
       "      <td>REGIONAL</td>\n",
       "      <td>28.35</td>\n",
       "      <td>Turista</td>\n",
       "      <td>Adulto ida</td>\n",
       "      <td>6.783333</td>\n",
       "      <td>madrid to val</td>\n",
       "    </tr>\n",
       "    <tr>\n",
       "      <th>17</th>\n",
       "      <td>17</td>\n",
       "      <td>2019-04-19 05:42:15</td>\n",
       "      <td>MADRID</td>\n",
       "      <td>VALENCIA</td>\n",
       "      <td>2019-06-13 12:21:00</td>\n",
       "      <td>2019-06-13 19:04:00</td>\n",
       "      <td>REGIONAL</td>\n",
       "      <td>28.35</td>\n",
       "      <td>Turista</td>\n",
       "      <td>Adulto ida</td>\n",
       "      <td>6.716667</td>\n",
       "      <td>madrid to val</td>\n",
       "    </tr>\n",
       "    <tr>\n",
       "      <th>18</th>\n",
       "      <td>18</td>\n",
       "      <td>2019-04-19 05:42:15</td>\n",
       "      <td>MADRID</td>\n",
       "      <td>VALENCIA</td>\n",
       "      <td>2019-06-13 16:05:00</td>\n",
       "      <td>2019-06-13 22:47:00</td>\n",
       "      <td>REGIONAL</td>\n",
       "      <td>28.35</td>\n",
       "      <td>Turista</td>\n",
       "      <td>Adulto ida</td>\n",
       "      <td>6.700000</td>\n",
       "      <td>madrid to val</td>\n",
       "    </tr>\n",
       "    <tr>\n",
       "      <th>19</th>\n",
       "      <td>19</td>\n",
       "      <td>2019-04-19 05:42:21</td>\n",
       "      <td>MADRID</td>\n",
       "      <td>VALENCIA</td>\n",
       "      <td>2019-06-12 06:08:00</td>\n",
       "      <td>2019-06-12 12:55:00</td>\n",
       "      <td>REGIONAL</td>\n",
       "      <td>28.35</td>\n",
       "      <td>Turista</td>\n",
       "      <td>Adulto ida</td>\n",
       "      <td>6.783333</td>\n",
       "      <td>madrid to val</td>\n",
       "    </tr>\n",
       "  </tbody>\n",
       "</table>\n",
       "</div>"
      ],
      "text/plain": [
       "    index          insert_date      origin destination           start_date  \\\n",
       "0       0  2019-04-19 05:37:35  PONFERRADA      MADRID  2019-06-02 15:00:00   \n",
       "1       1  2019-04-19 05:37:35  PONFERRADA      MADRID  2019-06-02 17:15:00   \n",
       "2       2  2019-04-19 05:37:35  PONFERRADA      MADRID  2019-06-02 17:15:00   \n",
       "3       3  2019-04-19 05:37:35  PONFERRADA      MADRID  2019-06-02 17:15:00   \n",
       "4       4  2019-04-19 05:37:35  PONFERRADA      MADRID  2019-06-02 18:55:00   \n",
       "5       5  2019-04-19 05:41:52      MADRID    VALENCIA  2019-06-17 06:08:00   \n",
       "6       6  2019-04-19 05:41:52      MADRID    VALENCIA  2019-06-17 12:21:00   \n",
       "7       7  2019-04-19 05:41:52      MADRID    VALENCIA  2019-06-17 16:05:00   \n",
       "8       8  2019-04-19 05:42:00      MADRID    VALENCIA  2019-06-16 06:20:00   \n",
       "9       9  2019-04-19 05:42:00      MADRID    VALENCIA  2019-06-16 12:42:00   \n",
       "10     10  2019-04-19 05:42:00      MADRID    VALENCIA  2019-06-16 16:30:00   \n",
       "11     11  2019-04-19 05:42:09      MADRID    VALENCIA  2019-06-15 08:00:00   \n",
       "12     12  2019-04-19 05:42:09      MADRID    VALENCIA  2019-06-15 16:30:00   \n",
       "13     13  2019-04-19 05:42:10      MADRID    VALENCIA  2019-06-14 06:08:00   \n",
       "14     14  2019-04-19 05:42:10      MADRID    VALENCIA  2019-06-14 12:21:00   \n",
       "15     15  2019-04-19 05:42:10      MADRID    VALENCIA  2019-06-14 16:30:00   \n",
       "16     16  2019-04-19 05:42:15      MADRID    VALENCIA  2019-06-13 06:08:00   \n",
       "17     17  2019-04-19 05:42:15      MADRID    VALENCIA  2019-06-13 12:21:00   \n",
       "18     18  2019-04-19 05:42:15      MADRID    VALENCIA  2019-06-13 16:05:00   \n",
       "19     19  2019-04-19 05:42:21      MADRID    VALENCIA  2019-06-12 06:08:00   \n",
       "\n",
       "               end_date train_type  price         train_class        fare  \\\n",
       "0   2019-06-02 19:42:00     MD-AVE  59.50  Turista con enlace    Flexible   \n",
       "1   2019-06-02 23:03:00     MD-AVE  34.65  Turista con enlace     Promo +   \n",
       "2   2019-06-02 23:10:00      MD-LD  39.95  Turista con enlace     Promo +   \n",
       "3   2019-06-02 22:14:00     MD-AVE  40.60  Turista con enlace     Promo +   \n",
       "4   2019-06-02 23:03:00      ALVIA  27.90             Turista       Promo   \n",
       "5   2019-06-17 12:55:00   REGIONAL  28.35             Turista  Adulto ida   \n",
       "6   2019-06-17 19:04:00   REGIONAL  28.35             Turista  Adulto ida   \n",
       "7   2019-06-17 22:47:00   REGIONAL  28.35             Turista  Adulto ida   \n",
       "8   2019-06-16 12:55:00   REGIONAL  28.35             Turista  Adulto ida   \n",
       "9   2019-06-16 19:04:00   REGIONAL  28.35             Turista  Adulto ida   \n",
       "10  2019-06-16 22:47:00   REGIONAL  28.35             Turista  Adulto ida   \n",
       "11  2019-06-15 14:10:00   REGIONAL  28.35             Turista  Adulto ida   \n",
       "12  2019-06-15 22:47:00   REGIONAL  28.35             Turista  Adulto ida   \n",
       "13  2019-06-14 12:55:00   REGIONAL  28.35             Turista  Adulto ida   \n",
       "14  2019-06-14 19:04:00   REGIONAL  28.35             Turista  Adulto ida   \n",
       "15  2019-06-14 22:47:00   REGIONAL  28.35             Turista  Adulto ida   \n",
       "16  2019-06-13 12:55:00   REGIONAL  28.35             Turista  Adulto ida   \n",
       "17  2019-06-13 19:04:00   REGIONAL  28.35             Turista  Adulto ida   \n",
       "18  2019-06-13 22:47:00   REGIONAL  28.35             Turista  Adulto ida   \n",
       "19  2019-06-12 12:55:00   REGIONAL  28.35             Turista  Adulto ida   \n",
       "\n",
       "    travel_time_in_hrs         from_to  \n",
       "0             4.700000  ponf to madrid  \n",
       "1             5.800000  ponf to madrid  \n",
       "2             5.916667  ponf to madrid  \n",
       "3             4.983333  ponf to madrid  \n",
       "4             4.133333  ponf to madrid  \n",
       "5             6.783333   madrid to val  \n",
       "6             6.716667   madrid to val  \n",
       "7             6.700000   madrid to val  \n",
       "8             6.583333   madrid to val  \n",
       "9             6.366667   madrid to val  \n",
       "10            6.283333   madrid to val  \n",
       "11            6.166667   madrid to val  \n",
       "12            6.283333   madrid to val  \n",
       "13            6.783333   madrid to val  \n",
       "14            6.716667   madrid to val  \n",
       "15            6.283333   madrid to val  \n",
       "16            6.783333   madrid to val  \n",
       "17            6.716667   madrid to val  \n",
       "18            6.700000   madrid to val  \n",
       "19            6.783333   madrid to val  "
      ]
     },
     "execution_count": 29,
     "metadata": {},
     "output_type": "execute_result"
    }
   ],
   "source": [
    "df['from_to'] = None \n",
    "\n",
    "df.loc[(df['origin'] == 'BARCELONA') & (df['destination'] == 'MADRID'), ['from_to']] = 'barc to madrid'\n",
    "df.loc[(df['origin'] == 'MADRID') & (df['destination'] == 'BARCELONA'), ['from_to']] = 'madrid to barc'\n",
    "df.loc[(df['origin'] == 'MADRID') & (df['destination'] == 'PONFERRADA'), ['from_to']] = 'madrid to ponf'\n",
    "df.loc[(df['origin'] == 'MADRID') & (df['destination'] == 'SEVILLA'), ['from_to']] = 'madrid to sev'\n",
    "df.loc[(df['origin'] == 'MADRID') & (df['destination'] == 'VALENCIA'), ['from_to']] = 'madrid to val'\n",
    "df.loc[(df['origin'] == 'PONFERRADA') & (df['destination'] == 'MADRID'), ['from_to']] = 'ponf to madrid'\n",
    "df.loc[(df['origin'] == 'SEVILLA') & (df['destination'] == 'MADRID'), ['from_to']]= 'sev to madrid'\n",
    "df.loc[(df['origin'] == 'VALENCIA') & (df['destination'] == 'MADRID'), ['from_to']] = 'val to madrid'\n",
    "\n",
    "df.head(20)"
   ]
  },
  {
   "cell_type": "markdown",
   "metadata": {},
   "source": [
    "#### **Task 20: Remove redundant features**\n"
   ]
  },
  {
   "cell_type": "markdown",
   "metadata": {},
   "source": [
    "**You need to remove features that are giving the related values as  'travel_time_in_hrs'**<br>\n",
    "*Hint: Look for date related columns*"
   ]
  },
  {
   "cell_type": "code",
   "execution_count": 39,
   "metadata": {
    "scrolled": true
   },
   "outputs": [],
   "source": [
    "#write code here\n",
    "df.drop(labels=['start_date', 'end_date'], axis=1,inplace=True)"
   ]
  },
  {
   "cell_type": "code",
   "execution_count": 40,
   "metadata": {},
   "outputs": [
    {
     "data": {
      "text/html": [
       "<div>\n",
       "<style scoped>\n",
       "    .dataframe tbody tr th:only-of-type {\n",
       "        vertical-align: middle;\n",
       "    }\n",
       "\n",
       "    .dataframe tbody tr th {\n",
       "        vertical-align: top;\n",
       "    }\n",
       "\n",
       "    .dataframe thead th {\n",
       "        text-align: right;\n",
       "    }\n",
       "</style>\n",
       "<table border=\"1\" class=\"dataframe\">\n",
       "  <thead>\n",
       "    <tr style=\"text-align: right;\">\n",
       "      <th></th>\n",
       "      <th>index</th>\n",
       "      <th>train_type</th>\n",
       "      <th>price</th>\n",
       "      <th>train_class</th>\n",
       "      <th>fare</th>\n",
       "      <th>travel_time_in_hrs</th>\n",
       "      <th>from_to</th>\n",
       "    </tr>\n",
       "  </thead>\n",
       "  <tbody>\n",
       "    <tr>\n",
       "      <th>0</th>\n",
       "      <td>0</td>\n",
       "      <td>MD-AVE</td>\n",
       "      <td>59.50</td>\n",
       "      <td>Turista con enlace</td>\n",
       "      <td>Flexible</td>\n",
       "      <td>4.700000</td>\n",
       "      <td>ponf to madrid</td>\n",
       "    </tr>\n",
       "    <tr>\n",
       "      <th>1</th>\n",
       "      <td>1</td>\n",
       "      <td>MD-AVE</td>\n",
       "      <td>34.65</td>\n",
       "      <td>Turista con enlace</td>\n",
       "      <td>Promo +</td>\n",
       "      <td>5.800000</td>\n",
       "      <td>ponf to madrid</td>\n",
       "    </tr>\n",
       "    <tr>\n",
       "      <th>2</th>\n",
       "      <td>2</td>\n",
       "      <td>MD-LD</td>\n",
       "      <td>39.95</td>\n",
       "      <td>Turista con enlace</td>\n",
       "      <td>Promo +</td>\n",
       "      <td>5.916667</td>\n",
       "      <td>ponf to madrid</td>\n",
       "    </tr>\n",
       "    <tr>\n",
       "      <th>3</th>\n",
       "      <td>3</td>\n",
       "      <td>MD-AVE</td>\n",
       "      <td>40.60</td>\n",
       "      <td>Turista con enlace</td>\n",
       "      <td>Promo +</td>\n",
       "      <td>4.983333</td>\n",
       "      <td>ponf to madrid</td>\n",
       "    </tr>\n",
       "    <tr>\n",
       "      <th>4</th>\n",
       "      <td>4</td>\n",
       "      <td>ALVIA</td>\n",
       "      <td>27.90</td>\n",
       "      <td>Turista</td>\n",
       "      <td>Promo</td>\n",
       "      <td>4.133333</td>\n",
       "      <td>ponf to madrid</td>\n",
       "    </tr>\n",
       "  </tbody>\n",
       "</table>\n",
       "</div>"
      ],
      "text/plain": [
       "   index train_type  price         train_class      fare  travel_time_in_hrs  \\\n",
       "0      0     MD-AVE  59.50  Turista con enlace  Flexible            4.700000   \n",
       "1      1     MD-AVE  34.65  Turista con enlace   Promo +            5.800000   \n",
       "2      2      MD-LD  39.95  Turista con enlace   Promo +            5.916667   \n",
       "3      3     MD-AVE  40.60  Turista con enlace   Promo +            4.983333   \n",
       "4      4      ALVIA  27.90             Turista     Promo            4.133333   \n",
       "\n",
       "          from_to  \n",
       "0  ponf to madrid  \n",
       "1  ponf to madrid  \n",
       "2  ponf to madrid  \n",
       "3  ponf to madrid  \n",
       "4  ponf to madrid  "
      ]
     },
     "execution_count": 40,
     "metadata": {},
     "output_type": "execute_result"
    }
   ],
   "source": [
    "df.head()"
   ]
  },
  {
   "cell_type": "markdown",
   "metadata": {},
   "source": [
    "We now need to find out the pricing from 'MADRID' to other destinations. We also need to find out time which each train requires for travelling. "
   ]
  },
  {
   "cell_type": "code",
   "execution_count": 41,
   "metadata": {},
   "outputs": [
    {
     "data": {
      "text/html": [
       "<div>\n",
       "<style scoped>\n",
       "    .dataframe tbody tr th:only-of-type {\n",
       "        vertical-align: middle;\n",
       "    }\n",
       "\n",
       "    .dataframe tbody tr th {\n",
       "        vertical-align: top;\n",
       "    }\n",
       "\n",
       "    .dataframe thead th {\n",
       "        text-align: right;\n",
       "    }\n",
       "</style>\n",
       "<table border=\"1\" class=\"dataframe\">\n",
       "  <thead>\n",
       "    <tr style=\"text-align: right;\">\n",
       "      <th></th>\n",
       "      <th>index</th>\n",
       "      <th>train_type</th>\n",
       "      <th>price</th>\n",
       "      <th>train_class</th>\n",
       "      <th>fare</th>\n",
       "      <th>travel_time_in_hrs</th>\n",
       "      <th>from_to</th>\n",
       "    </tr>\n",
       "  </thead>\n",
       "  <tbody>\n",
       "    <tr>\n",
       "      <th>0</th>\n",
       "      <td>0</td>\n",
       "      <td>MD-AVE</td>\n",
       "      <td>59.50</td>\n",
       "      <td>Turista con enlace</td>\n",
       "      <td>Flexible</td>\n",
       "      <td>4.700000</td>\n",
       "      <td>ponf to madrid</td>\n",
       "    </tr>\n",
       "    <tr>\n",
       "      <th>1</th>\n",
       "      <td>1</td>\n",
       "      <td>MD-AVE</td>\n",
       "      <td>34.65</td>\n",
       "      <td>Turista con enlace</td>\n",
       "      <td>Promo +</td>\n",
       "      <td>5.800000</td>\n",
       "      <td>ponf to madrid</td>\n",
       "    </tr>\n",
       "    <tr>\n",
       "      <th>2</th>\n",
       "      <td>2</td>\n",
       "      <td>MD-LD</td>\n",
       "      <td>39.95</td>\n",
       "      <td>Turista con enlace</td>\n",
       "      <td>Promo +</td>\n",
       "      <td>5.916667</td>\n",
       "      <td>ponf to madrid</td>\n",
       "    </tr>\n",
       "    <tr>\n",
       "      <th>3</th>\n",
       "      <td>3</td>\n",
       "      <td>MD-AVE</td>\n",
       "      <td>40.60</td>\n",
       "      <td>Turista con enlace</td>\n",
       "      <td>Promo +</td>\n",
       "      <td>4.983333</td>\n",
       "      <td>ponf to madrid</td>\n",
       "    </tr>\n",
       "    <tr>\n",
       "      <th>4</th>\n",
       "      <td>4</td>\n",
       "      <td>ALVIA</td>\n",
       "      <td>27.90</td>\n",
       "      <td>Turista</td>\n",
       "      <td>Promo</td>\n",
       "      <td>4.133333</td>\n",
       "      <td>ponf to madrid</td>\n",
       "    </tr>\n",
       "  </tbody>\n",
       "</table>\n",
       "</div>"
      ],
      "text/plain": [
       "   index train_type  price         train_class      fare  travel_time_in_hrs  \\\n",
       "0      0     MD-AVE  59.50  Turista con enlace  Flexible            4.700000   \n",
       "1      1     MD-AVE  34.65  Turista con enlace   Promo +            5.800000   \n",
       "2      2      MD-LD  39.95  Turista con enlace   Promo +            5.916667   \n",
       "3      3     MD-AVE  40.60  Turista con enlace   Promo +            4.983333   \n",
       "4      4      ALVIA  27.90             Turista     Promo            4.133333   \n",
       "\n",
       "          from_to  \n",
       "0  ponf to madrid  \n",
       "1  ponf to madrid  \n",
       "2  ponf to madrid  \n",
       "3  ponf to madrid  \n",
       "4  ponf to madrid  "
      ]
     },
     "execution_count": 41,
     "metadata": {},
     "output_type": "execute_result"
    }
   ],
   "source": [
    "df.drop(labels=['origin', 'destination'], axis=1,inplace=True)\n",
    "df.head()"
   ]
  },
  {
   "cell_type": "code",
   "execution_count": 44,
   "metadata": {},
   "outputs": [
    {
     "data": {
      "text/html": [
       "<div>\n",
       "<style scoped>\n",
       "    .dataframe tbody tr th:only-of-type {\n",
       "        vertical-align: middle;\n",
       "    }\n",
       "\n",
       "    .dataframe tbody tr th {\n",
       "        vertical-align: top;\n",
       "    }\n",
       "\n",
       "    .dataframe thead th {\n",
       "        text-align: right;\n",
       "    }\n",
       "</style>\n",
       "<table border=\"1\" class=\"dataframe\">\n",
       "  <thead>\n",
       "    <tr style=\"text-align: right;\">\n",
       "      <th></th>\n",
       "      <th>train_type</th>\n",
       "      <th>price</th>\n",
       "      <th>train_class</th>\n",
       "      <th>fare</th>\n",
       "      <th>travel_time_in_hrs</th>\n",
       "      <th>from_to</th>\n",
       "    </tr>\n",
       "  </thead>\n",
       "  <tbody>\n",
       "    <tr>\n",
       "      <th>0</th>\n",
       "      <td>MD-AVE</td>\n",
       "      <td>59.50</td>\n",
       "      <td>Turista con enlace</td>\n",
       "      <td>Flexible</td>\n",
       "      <td>4.700000</td>\n",
       "      <td>ponf to madrid</td>\n",
       "    </tr>\n",
       "    <tr>\n",
       "      <th>1</th>\n",
       "      <td>MD-AVE</td>\n",
       "      <td>34.65</td>\n",
       "      <td>Turista con enlace</td>\n",
       "      <td>Promo +</td>\n",
       "      <td>5.800000</td>\n",
       "      <td>ponf to madrid</td>\n",
       "    </tr>\n",
       "    <tr>\n",
       "      <th>2</th>\n",
       "      <td>MD-LD</td>\n",
       "      <td>39.95</td>\n",
       "      <td>Turista con enlace</td>\n",
       "      <td>Promo +</td>\n",
       "      <td>5.916667</td>\n",
       "      <td>ponf to madrid</td>\n",
       "    </tr>\n",
       "    <tr>\n",
       "      <th>3</th>\n",
       "      <td>MD-AVE</td>\n",
       "      <td>40.60</td>\n",
       "      <td>Turista con enlace</td>\n",
       "      <td>Promo +</td>\n",
       "      <td>4.983333</td>\n",
       "      <td>ponf to madrid</td>\n",
       "    </tr>\n",
       "    <tr>\n",
       "      <th>4</th>\n",
       "      <td>ALVIA</td>\n",
       "      <td>27.90</td>\n",
       "      <td>Turista</td>\n",
       "      <td>Promo</td>\n",
       "      <td>4.133333</td>\n",
       "      <td>ponf to madrid</td>\n",
       "    </tr>\n",
       "  </tbody>\n",
       "</table>\n",
       "</div>"
      ],
      "text/plain": [
       "  train_type  price         train_class      fare  travel_time_in_hrs  \\\n",
       "0     MD-AVE  59.50  Turista con enlace  Flexible            4.700000   \n",
       "1     MD-AVE  34.65  Turista con enlace   Promo +            5.800000   \n",
       "2      MD-LD  39.95  Turista con enlace   Promo +            5.916667   \n",
       "3     MD-AVE  40.60  Turista con enlace   Promo +            4.983333   \n",
       "4      ALVIA  27.90             Turista     Promo            4.133333   \n",
       "\n",
       "          from_to  \n",
       "0  ponf to madrid  \n",
       "1  ponf to madrid  \n",
       "2  ponf to madrid  \n",
       "3  ponf to madrid  \n",
       "4  ponf to madrid  "
      ]
     },
     "execution_count": 44,
     "metadata": {},
     "output_type": "execute_result"
    }
   ],
   "source": [
    "df.drop(['index'],axis=1,inplace=True)\n",
    "df.head()"
   ]
  },
  {
   "cell_type": "markdown",
   "metadata": {},
   "source": [
    "## **Travelling from MADRID to SEVILLA**"
   ]
  },
  {
   "cell_type": "markdown",
   "metadata": {},
   "source": [
    "#### Task 21: Findout people travelling from MADRID to SEVILLA"
   ]
  },
  {
   "cell_type": "code",
   "execution_count": 45,
   "metadata": {
    "scrolled": true
   },
   "outputs": [],
   "source": [
    "#write code here\n",
    "df1 = df[df['from_to'] == 'madrid to sev']"
   ]
  },
  {
   "cell_type": "markdown",
   "metadata": {},
   "source": [
    "#### Task 22: Make a plot for finding out travelling hours for each train type"
   ]
  },
  {
   "cell_type": "code",
   "execution_count": 46,
   "metadata": {
    "scrolled": true
   },
   "outputs": [
    {
     "data": {
      "text/plain": [
       "<matplotlib.axes._subplots.AxesSubplot at 0x23f09027080>"
      ]
     },
     "execution_count": 46,
     "metadata": {},
     "output_type": "execute_result"
    },
    {
     "data": {
      "image/png": "[encoded data removed]",
      "text/plain": [
       "<Figure size 1080x360 with 1 Axes>"
      ]
     },
     "metadata": {
      "needs_background": "light"
     },
     "output_type": "display_data"
    }
   ],
   "source": [
    "#write code here\n",
    "plt.figure(figsize=(15,5))\n",
    "sns.barplot(x='train_type',y='travel_time_in_hrs',data=df1)"
   ]
  },
  {
   "cell_type": "markdown",
   "metadata": {},
   "source": [
    "#### **Task 23: Show train_type vs price through boxplot**\n"
   ]
  },
  {
   "cell_type": "code",
   "execution_count": 47,
   "metadata": {},
   "outputs": [
    {
     "data": {
      "text/plain": [
       "<matplotlib.axes._subplots.AxesSubplot at 0x23f04de5a90>"
      ]
     },
     "execution_count": 47,
     "metadata": {},
     "output_type": "execute_result"
    },
    {
     "data": {
      "image/png": "[encoded data removed]",
      "text/plain": [
       "<Figure size 1080x360 with 1 Axes>"
      ]
     },
     "metadata": {
      "needs_background": "light"
     },
     "output_type": "display_data"
    }
   ],
   "source": [
    "#write code here\n",
    "plt.figure(figsize=(15,5))\n",
    "sns.boxplot(x='train_type',y='price',data=df1)"
   ]
  },
  {
   "cell_type": "markdown",
   "metadata": {},
   "source": [
    "## **Travelling from MADRID to BARCELONA**\n"
   ]
  },
  {
   "cell_type": "markdown",
   "metadata": {},
   "source": [
    "#### Task 24: Findout people travelling from MADRID to BARCELONA"
   ]
  },
  {
   "cell_type": "code",
   "execution_count": 48,
   "metadata": {},
   "outputs": [],
   "source": [
    "#write code here\n",
    "df1 = df[df['from_to'] == 'madrid to barc']"
   ]
  },
  {
   "cell_type": "markdown",
   "metadata": {},
   "source": [
    "#### Task 25: Make a plot for finding out travelling hours for each train type"
   ]
  },
  {
   "cell_type": "code",
   "execution_count": 49,
   "metadata": {
    "scrolled": false
   },
   "outputs": [
    {
     "data": {
      "text/plain": [
       "<matplotlib.axes._subplots.AxesSubplot at 0x23f04de5f60>"
      ]
     },
     "execution_count": 49,
     "metadata": {},
     "output_type": "execute_result"
    },
    {
     "data": {
      "image/png": "[encoded data removed]",
      "text/plain": [
       "<Figure size 1080x360 with 1 Axes>"
      ]
     },
     "metadata": {
      "needs_background": "light"
     },
     "output_type": "display_data"
    }
   ],
   "source": [
    "#write code here\n",
    "plt.figure(figsize=(15,5))\n",
    "sns.barplot(y='travel_time_in_hrs',x='train_type',data=df1)"
   ]
  },
  {
   "cell_type": "markdown",
   "metadata": {},
   "source": [
    "#### **Task 26: Show train_type vs price through boxplot**"
   ]
  },
  {
   "cell_type": "code",
   "execution_count": 50,
   "metadata": {
    "scrolled": true
   },
   "outputs": [
    {
     "data": {
      "text/plain": [
       "<matplotlib.axes._subplots.AxesSubplot at 0x23f03b1bba8>"
      ]
     },
     "execution_count": 50,
     "metadata": {},
     "output_type": "execute_result"
    },
    {
     "data": {
      "image/png": "[encoded data removed]",
      "text/plain": [
       "<Figure size 720x360 with 1 Axes>"
      ]
     },
     "metadata": {
      "needs_background": "light"
     },
     "output_type": "display_data"
    }
   ],
   "source": [
    "#write code here\n",
    "plt.figure(figsize=(10,5))\n",
    "sns.boxplot(x='train_type',y='price',data=df1)"
   ]
  },
  {
   "cell_type": "markdown",
   "metadata": {},
   "source": [
    "## **Travelling from MADRID to VALENCIA**"
   ]
  },
  {
   "cell_type": "markdown",
   "metadata": {},
   "source": [
    "#### Task 27: Findout people travelling from MADRID to VALENCIA"
   ]
  },
  {
   "cell_type": "code",
   "execution_count": 51,
   "metadata": {},
   "outputs": [],
   "source": [
    "#write code here\n",
    "df1 = df[df['from_to'] == 'madrid to val']"
   ]
  },
  {
   "cell_type": "markdown",
   "metadata": {},
   "source": [
    "#### Task 28: Make a plot for finding out travelling hours for each train type"
   ]
  },
  {
   "cell_type": "code",
   "execution_count": 52,
   "metadata": {
    "scrolled": true
   },
   "outputs": [
    {
     "data": {
      "text/plain": [
       "<matplotlib.axes._subplots.AxesSubplot at 0x23f090af128>"
      ]
     },
     "execution_count": 52,
     "metadata": {},
     "output_type": "execute_result"
    },
    {
     "data": {
      "image/png": "[encoded data removed]",
      "text/plain": [
       "<Figure size 1080x360 with 1 Axes>"
      ]
     },
     "metadata": {
      "needs_background": "light"
     },
     "output_type": "display_data"
    }
   ],
   "source": [
    "#write code here\n",
    "plt.figure(figsize=(15,5))\n",
    "sns.boxplot(y='travel_time_in_hrs',x='train_type',data=df1)"
   ]
  },
  {
   "cell_type": "markdown",
   "metadata": {},
   "source": [
    "#### **Task 29: Show train_type vs price through boxplot**"
   ]
  },
  {
   "cell_type": "code",
   "execution_count": 53,
   "metadata": {
    "scrolled": true
   },
   "outputs": [
    {
     "data": {
      "text/plain": [
       "<matplotlib.axes._subplots.AxesSubplot at 0x23f09c29e10>"
      ]
     },
     "execution_count": 53,
     "metadata": {},
     "output_type": "execute_result"
    },
    {
     "data": {
      "image/png": "[encoded data removed]",
      "text/plain": [
       "<Figure size 1080x360 with 1 Axes>"
      ]
     },
     "metadata": {
      "needs_background": "light"
     },
     "output_type": "display_data"
    }
   ],
   "source": [
    "#write code here\n",
    "plt.figure(figsize=(15,5))\n",
    "sns.boxplot(x='train_type',y='price',data=df1)"
   ]
  },
  {
   "cell_type": "markdown",
   "metadata": {},
   "source": [
    "## **Travelling from MADRID to PONFERRADA**"
   ]
  },
  {
   "cell_type": "markdown",
   "metadata": {},
   "source": [
    "#### Task 30: Findout people travelling from MADRID to PONFERRADA"
   ]
  },
  {
   "cell_type": "code",
   "execution_count": 54,
   "metadata": {},
   "outputs": [],
   "source": [
    "#write code here\n",
    "df1 = df[df['from_to'] == 'madrid to ponf']"
   ]
  },
  {
   "cell_type": "markdown",
   "metadata": {},
   "source": [
    "#### Task 31: Make a plot for finding out travelling hours for each train type"
   ]
  },
  {
   "cell_type": "code",
   "execution_count": 55,
   "metadata": {
    "scrolled": true
   },
   "outputs": [
    {
     "data": {
      "text/plain": [
       "<matplotlib.axes._subplots.AxesSubplot at 0x23f0aa752b0>"
      ]
     },
     "execution_count": 55,
     "metadata": {},
     "output_type": "execute_result"
    },
    {
     "data": {
      "image/png": "[encoded data removed]",
      "text/plain": [
       "<Figure size 1080x360 with 1 Axes>"
      ]
     },
     "metadata": {
      "needs_background": "light"
     },
     "output_type": "display_data"
    }
   ],
   "source": [
    "#write code here\n",
    "plt.figure(figsize=(15,5))\n",
    "sns.barplot(y='travel_time_in_hrs',x='train_type',data=df1)"
   ]
  },
  {
   "cell_type": "markdown",
   "metadata": {},
   "source": [
    "#### **Task 32: Show train_type vs price through boxplot**"
   ]
  },
  {
   "cell_type": "code",
   "execution_count": 56,
   "metadata": {
    "scrolled": true
   },
   "outputs": [
    {
     "data": {
      "text/plain": [
       "<matplotlib.axes._subplots.AxesSubplot at 0x23f0aae34e0>"
      ]
     },
     "execution_count": 56,
     "metadata": {},
     "output_type": "execute_result"
    },
    {
     "data": {
      "image/png": "[encoded data removed]",
      "text/plain": [
       "<Figure size 1080x360 with 1 Axes>"
      ]
     },
     "metadata": {
      "needs_background": "light"
     },
     "output_type": "display_data"
    }
   ],
   "source": [
    "#write code here\n",
    "plt.figure(figsize=(15,5))\n",
    "sns.boxplot(x='train_type',y='price',data=df1)"
   ]
  },
  {
   "cell_type": "code",
   "execution_count": 57,
   "metadata": {},
   "outputs": [
    {
     "ename": "KeyError",
     "evalue": "\"['index'] not found in axis\"",
     "output_type": "error",
     "traceback": [
      "\u001b[1;31m---------------------------------------------------------------------------\u001b[0m",
      "\u001b[1;31mKeyError\u001b[0m                                  Traceback (most recent call last)",
      "\u001b[1;32m<ipython-input-57-88933e31b505>\u001b[0m in \u001b[0;36m<module>\u001b[1;34m\u001b[0m\n\u001b[1;32m----> 1\u001b[1;33m \u001b[0mdf\u001b[0m\u001b[1;33m.\u001b[0m\u001b[0mdrop\u001b[0m\u001b[1;33m(\u001b[0m\u001b[1;33m[\u001b[0m\u001b[1;34m'index'\u001b[0m\u001b[1;33m]\u001b[0m\u001b[1;33m,\u001b[0m\u001b[0maxis\u001b[0m\u001b[1;33m=\u001b[0m\u001b[1;36m1\u001b[0m\u001b[1;33m,\u001b[0m\u001b[0minplace\u001b[0m\u001b[1;33m=\u001b[0m\u001b[1;32mTrue\u001b[0m\u001b[1;33m)\u001b[0m\u001b[1;33m\u001b[0m\u001b[1;33m\u001b[0m\u001b[0m\n\u001b[0m",
      "\u001b[1;32m~\\Anaconda3\\lib\\site-packages\\pandas\\core\\frame.py\u001b[0m in \u001b[0;36mdrop\u001b[1;34m(self, labels, axis, index, columns, level, inplace, errors)\u001b[0m\n\u001b[0;32m   3938\u001b[0m                                            \u001b[0mindex\u001b[0m\u001b[1;33m=\u001b[0m\u001b[0mindex\u001b[0m\u001b[1;33m,\u001b[0m \u001b[0mcolumns\u001b[0m\u001b[1;33m=\u001b[0m\u001b[0mcolumns\u001b[0m\u001b[1;33m,\u001b[0m\u001b[1;33m\u001b[0m\u001b[1;33m\u001b[0m\u001b[0m\n\u001b[0;32m   3939\u001b[0m                                            \u001b[0mlevel\u001b[0m\u001b[1;33m=\u001b[0m\u001b[0mlevel\u001b[0m\u001b[1;33m,\u001b[0m \u001b[0minplace\u001b[0m\u001b[1;33m=\u001b[0m\u001b[0minplace\u001b[0m\u001b[1;33m,\u001b[0m\u001b[1;33m\u001b[0m\u001b[1;33m\u001b[0m\u001b[0m\n\u001b[1;32m-> 3940\u001b[1;33m                                            errors=errors)\n\u001b[0m\u001b[0;32m   3941\u001b[0m \u001b[1;33m\u001b[0m\u001b[0m\n\u001b[0;32m   3942\u001b[0m     @rewrite_axis_style_signature('mapper', [('copy', True),\n",
      "\u001b[1;32m~\\Anaconda3\\lib\\site-packages\\pandas\\core\\generic.py\u001b[0m in \u001b[0;36mdrop\u001b[1;34m(self, labels, axis, index, columns, level, inplace, errors)\u001b[0m\n\u001b[0;32m   3778\u001b[0m         \u001b[1;32mfor\u001b[0m \u001b[0maxis\u001b[0m\u001b[1;33m,\u001b[0m \u001b[0mlabels\u001b[0m \u001b[1;32min\u001b[0m \u001b[0maxes\u001b[0m\u001b[1;33m.\u001b[0m\u001b[0mitems\u001b[0m\u001b[1;33m(\u001b[0m\u001b[1;33m)\u001b[0m\u001b[1;33m:\u001b[0m\u001b[1;33m\u001b[0m\u001b[1;33m\u001b[0m\u001b[0m\n\u001b[0;32m   3779\u001b[0m             \u001b[1;32mif\u001b[0m \u001b[0mlabels\u001b[0m \u001b[1;32mis\u001b[0m \u001b[1;32mnot\u001b[0m \u001b[1;32mNone\u001b[0m\u001b[1;33m:\u001b[0m\u001b[1;33m\u001b[0m\u001b[1;33m\u001b[0m\u001b[0m\n\u001b[1;32m-> 3780\u001b[1;33m                 \u001b[0mobj\u001b[0m \u001b[1;33m=\u001b[0m \u001b[0mobj\u001b[0m\u001b[1;33m.\u001b[0m\u001b[0m_drop_axis\u001b[0m\u001b[1;33m(\u001b[0m\u001b[0mlabels\u001b[0m\u001b[1;33m,\u001b[0m \u001b[0maxis\u001b[0m\u001b[1;33m,\u001b[0m \u001b[0mlevel\u001b[0m\u001b[1;33m=\u001b[0m\u001b[0mlevel\u001b[0m\u001b[1;33m,\u001b[0m \u001b[0merrors\u001b[0m\u001b[1;33m=\u001b[0m\u001b[0merrors\u001b[0m\u001b[1;33m)\u001b[0m\u001b[1;33m\u001b[0m\u001b[1;33m\u001b[0m\u001b[0m\n\u001b[0m\u001b[0;32m   3781\u001b[0m \u001b[1;33m\u001b[0m\u001b[0m\n\u001b[0;32m   3782\u001b[0m         \u001b[1;32mif\u001b[0m \u001b[0minplace\u001b[0m\u001b[1;33m:\u001b[0m\u001b[1;33m\u001b[0m\u001b[1;33m\u001b[0m\u001b[0m\n",
      "\u001b[1;32m~\\Anaconda3\\lib\\site-packages\\pandas\\core\\generic.py\u001b[0m in \u001b[0;36m_drop_axis\u001b[1;34m(self, labels, axis, level, errors)\u001b[0m\n\u001b[0;32m   3810\u001b[0m                 \u001b[0mnew_axis\u001b[0m \u001b[1;33m=\u001b[0m \u001b[0maxis\u001b[0m\u001b[1;33m.\u001b[0m\u001b[0mdrop\u001b[0m\u001b[1;33m(\u001b[0m\u001b[0mlabels\u001b[0m\u001b[1;33m,\u001b[0m \u001b[0mlevel\u001b[0m\u001b[1;33m=\u001b[0m\u001b[0mlevel\u001b[0m\u001b[1;33m,\u001b[0m \u001b[0merrors\u001b[0m\u001b[1;33m=\u001b[0m\u001b[0merrors\u001b[0m\u001b[1;33m)\u001b[0m\u001b[1;33m\u001b[0m\u001b[1;33m\u001b[0m\u001b[0m\n\u001b[0;32m   3811\u001b[0m             \u001b[1;32melse\u001b[0m\u001b[1;33m:\u001b[0m\u001b[1;33m\u001b[0m\u001b[1;33m\u001b[0m\u001b[0m\n\u001b[1;32m-> 3812\u001b[1;33m                 \u001b[0mnew_axis\u001b[0m \u001b[1;33m=\u001b[0m \u001b[0maxis\u001b[0m\u001b[1;33m.\u001b[0m\u001b[0mdrop\u001b[0m\u001b[1;33m(\u001b[0m\u001b[0mlabels\u001b[0m\u001b[1;33m,\u001b[0m \u001b[0merrors\u001b[0m\u001b[1;33m=\u001b[0m\u001b[0merrors\u001b[0m\u001b[1;33m)\u001b[0m\u001b[1;33m\u001b[0m\u001b[1;33m\u001b[0m\u001b[0m\n\u001b[0m\u001b[0;32m   3813\u001b[0m             \u001b[0mresult\u001b[0m \u001b[1;33m=\u001b[0m \u001b[0mself\u001b[0m\u001b[1;33m.\u001b[0m\u001b[0mreindex\u001b[0m\u001b[1;33m(\u001b[0m\u001b[1;33m**\u001b[0m\u001b[1;33m{\u001b[0m\u001b[0maxis_name\u001b[0m\u001b[1;33m:\u001b[0m \u001b[0mnew_axis\u001b[0m\u001b[1;33m}\u001b[0m\u001b[1;33m)\u001b[0m\u001b[1;33m\u001b[0m\u001b[1;33m\u001b[0m\u001b[0m\n\u001b[0;32m   3814\u001b[0m \u001b[1;33m\u001b[0m\u001b[0m\n",
      "\u001b[1;32m~\\Anaconda3\\lib\\site-packages\\pandas\\core\\indexes\\base.py\u001b[0m in \u001b[0;36mdrop\u001b[1;34m(self, labels, errors)\u001b[0m\n\u001b[0;32m   4963\u001b[0m             \u001b[1;32mif\u001b[0m \u001b[0merrors\u001b[0m \u001b[1;33m!=\u001b[0m \u001b[1;34m'ignore'\u001b[0m\u001b[1;33m:\u001b[0m\u001b[1;33m\u001b[0m\u001b[1;33m\u001b[0m\u001b[0m\n\u001b[0;32m   4964\u001b[0m                 raise KeyError(\n\u001b[1;32m-> 4965\u001b[1;33m                     '{} not found in axis'.format(labels[mask]))\n\u001b[0m\u001b[0;32m   4966\u001b[0m             \u001b[0mindexer\u001b[0m \u001b[1;33m=\u001b[0m \u001b[0mindexer\u001b[0m\u001b[1;33m[\u001b[0m\u001b[1;33m~\u001b[0m\u001b[0mmask\u001b[0m\u001b[1;33m]\u001b[0m\u001b[1;33m\u001b[0m\u001b[1;33m\u001b[0m\u001b[0m\n\u001b[0;32m   4967\u001b[0m         \u001b[1;32mreturn\u001b[0m \u001b[0mself\u001b[0m\u001b[1;33m.\u001b[0m\u001b[0mdelete\u001b[0m\u001b[1;33m(\u001b[0m\u001b[0mindexer\u001b[0m\u001b[1;33m)\u001b[0m\u001b[1;33m\u001b[0m\u001b[1;33m\u001b[0m\u001b[0m\n",
      "\u001b[1;31mKeyError\u001b[0m: \"['index'] not found in axis\""
     ]
    }
   ],
   "source": [
    "df.drop(['index'],axis=1,inplace=True)"
   ]
  },
  {
   "cell_type": "markdown",
   "metadata": {},
   "source": [
    "# Applying Linear  Regression"
   ]
  },
  {
   "cell_type": "markdown",
   "metadata": {},
   "source": [
    "#### Task 33: Import LabelEncoder library from sklearn "
   ]
  },
  {
   "cell_type": "code",
   "execution_count": 63,
   "metadata": {},
   "outputs": [],
   "source": [
    "#write code here\n",
    "from sklearn.preprocessing import LabelEncoder"
   ]
  },
  {
   "cell_type": "markdown",
   "metadata": {},
   "source": [
    "**Data Encoding**"
   ]
  },
  {
   "cell_type": "code",
   "execution_count": 64,
   "metadata": {},
   "outputs": [],
   "source": [
    "lab_en = LabelEncoder()\n",
    "\n",
    "df.iloc[:,0] = lab_en.fit_transform(df.iloc[:,0])\n",
    "df.iloc[:,2] = lab_en.fit_transform(df.iloc[:,2])\n",
    "df.iloc[:,3] = lab_en.fit_transform(df.iloc[:,3])\n",
    "df.iloc[:,4] = lab_en.fit_transform(df.iloc[:,4])\n",
    "df.iloc[:,5] = lab_en.fit_transform(df.iloc[:,5])"
   ]
  },
  {
   "cell_type": "code",
   "execution_count": 65,
   "metadata": {},
   "outputs": [
    {
     "data": {
      "text/html": [
       "<div>\n",
       "<style scoped>\n",
       "    .dataframe tbody tr th:only-of-type {\n",
       "        vertical-align: middle;\n",
       "    }\n",
       "\n",
       "    .dataframe tbody tr th {\n",
       "        vertical-align: top;\n",
       "    }\n",
       "\n",
       "    .dataframe thead th {\n",
       "        text-align: right;\n",
       "    }\n",
       "</style>\n",
       "<table border=\"1\" class=\"dataframe\">\n",
       "  <thead>\n",
       "    <tr style=\"text-align: right;\">\n",
       "      <th></th>\n",
       "      <th>train_type</th>\n",
       "      <th>price</th>\n",
       "      <th>train_class</th>\n",
       "      <th>fare</th>\n",
       "      <th>travel_time_in_hrs</th>\n",
       "      <th>from_to</th>\n",
       "    </tr>\n",
       "  </thead>\n",
       "  <tbody>\n",
       "    <tr>\n",
       "      <th>0</th>\n",
       "      <td>11</td>\n",
       "      <td>80</td>\n",
       "      <td>4</td>\n",
       "      <td>1</td>\n",
       "      <td>47</td>\n",
       "      <td>5</td>\n",
       "    </tr>\n",
       "    <tr>\n",
       "      <th>1</th>\n",
       "      <td>11</td>\n",
       "      <td>21</td>\n",
       "      <td>4</td>\n",
       "      <td>4</td>\n",
       "      <td>53</td>\n",
       "      <td>5</td>\n",
       "    </tr>\n",
       "    <tr>\n",
       "      <th>2</th>\n",
       "      <td>12</td>\n",
       "      <td>34</td>\n",
       "      <td>4</td>\n",
       "      <td>4</td>\n",
       "      <td>54</td>\n",
       "      <td>5</td>\n",
       "    </tr>\n",
       "    <tr>\n",
       "      <th>3</th>\n",
       "      <td>11</td>\n",
       "      <td>36</td>\n",
       "      <td>4</td>\n",
       "      <td>4</td>\n",
       "      <td>48</td>\n",
       "      <td>5</td>\n",
       "    </tr>\n",
       "    <tr>\n",
       "      <th>4</th>\n",
       "      <td>0</td>\n",
       "      <td>7</td>\n",
       "      <td>2</td>\n",
       "      <td>3</td>\n",
       "      <td>44</td>\n",
       "      <td>5</td>\n",
       "    </tr>\n",
       "  </tbody>\n",
       "</table>\n",
       "</div>"
      ],
      "text/plain": [
       "   train_type  price  train_class  fare  travel_time_in_hrs  from_to\n",
       "0          11     80            4     1                  47        5\n",
       "1          11     21            4     4                  53        5\n",
       "2          12     34            4     4                  54        5\n",
       "3          11     36            4     4                  48        5\n",
       "4           0      7            2     3                  44        5"
      ]
     },
     "execution_count": 65,
     "metadata": {},
     "output_type": "execute_result"
    }
   ],
   "source": [
    "df.head()"
   ]
  },
  {
   "cell_type": "markdown",
   "metadata": {},
   "source": [
    "#### Task 34: Separate the dependant and independant variables"
   ]
  },
  {
   "cell_type": "code",
   "execution_count": 66,
   "metadata": {},
   "outputs": [
    {
     "name": "stdout",
     "output_type": "stream",
     "text": [
      "(215266, 5)\n",
      "(215266, 1)\n"
     ]
    }
   ],
   "source": [
    "#write code here\n",
    "X = df.drop(['price'],axis=1)\n",
    "Y = df[['price']]\n",
    "print(X.shape)\n",
    "print(Y.shape)"
   ]
  },
  {
   "cell_type": "markdown",
   "metadata": {},
   "source": [
    "#### Task 35: Import test_train_split from sklearn"
   ]
  },
  {
   "cell_type": "code",
   "execution_count": 67,
   "metadata": {},
   "outputs": [],
   "source": [
    "#write code here\n",
    "from sklearn.model_selection import train_test_split"
   ]
  },
  {
   "cell_type": "markdown",
   "metadata": {},
   "source": [
    "#### Task 36:**Split the data into training and test set**"
   ]
  },
  {
   "cell_type": "code",
   "execution_count": 68,
   "metadata": {
    "scrolled": true
   },
   "outputs": [
    {
     "name": "stdout",
     "output_type": "stream",
     "text": [
      "(150686, 5) (150686, 1)\n",
      "(64580, 5) (64580, 1)\n"
     ]
    }
   ],
   "source": [
    "#write code here\n",
    "X_train,X_test,Y_train,Y_test = train_test_split(X, Y, test_size=0.30, random_state=25,shuffle=True)\n",
    "print(X_train.shape, Y_train.shape)\n",
    "print(X_test.shape, Y_test.shape)"
   ]
  },
  {
   "cell_type": "markdown",
   "metadata": {},
   "source": [
    "#### Task 37: Import LinearRegression library from sklearn"
   ]
  },
  {
   "cell_type": "code",
   "execution_count": 69,
   "metadata": {},
   "outputs": [],
   "source": [
    "#write code here\n",
    "from sklearn.linear_model import LinearRegression"
   ]
  },
  {
   "cell_type": "markdown",
   "metadata": {},
   "source": [
    "#### Task 38: Make an object of LinearRegression( ) and train it using the training data set"
   ]
  },
  {
   "cell_type": "code",
   "execution_count": 70,
   "metadata": {},
   "outputs": [],
   "source": [
    "#write code here\n",
    "lr = LinearRegression()"
   ]
  },
  {
   "cell_type": "code",
   "execution_count": 71,
   "metadata": {
    "scrolled": true
   },
   "outputs": [
    {
     "data": {
      "text/plain": [
       "LinearRegression(copy_X=True, fit_intercept=True, n_jobs=None,\n",
       "         normalize=False)"
      ]
     },
     "execution_count": 71,
     "metadata": {},
     "output_type": "execute_result"
    }
   ],
   "source": [
    "#write code here\n",
    "lr.fit(X_train, Y_train)"
   ]
  },
  {
   "cell_type": "markdown",
   "metadata": {},
   "source": [
    "#### Task 39: Find out the predictions using test data set."
   ]
  },
  {
   "cell_type": "code",
   "execution_count": 72,
   "metadata": {},
   "outputs": [],
   "source": [
    "#write code here\n",
    "lr_predict = lr.predict(X_test)"
   ]
  },
  {
   "cell_type": "markdown",
   "metadata": {},
   "source": [
    "#### Task 40: Find out the predictions using training data set."
   ]
  },
  {
   "cell_type": "code",
   "execution_count": 73,
   "metadata": {},
   "outputs": [],
   "source": [
    "#write code here\n",
    "lr_predict_train = lr.predict(X_train)"
   ]
  },
  {
   "cell_type": "markdown",
   "metadata": {},
   "source": [
    "#### Task 41: Import r2_score library form sklearn"
   ]
  },
  {
   "cell_type": "code",
   "execution_count": 74,
   "metadata": {},
   "outputs": [],
   "source": [
    "#write code here\n",
    "from sklearn.metrics import r2_score"
   ]
  },
  {
   "cell_type": "markdown",
   "metadata": {},
   "source": [
    "#### Task 42: Find out the R2 Score for test data and print it."
   ]
  },
  {
   "cell_type": "code",
   "execution_count": 75,
   "metadata": {},
   "outputs": [],
   "source": [
    "#write code here\n",
    "lr_r2_test= r2_score(y_true=Y_test, y_pred=lr_predict)"
   ]
  },
  {
   "cell_type": "markdown",
   "metadata": {},
   "source": [
    "#### Task 43: Find out the R2 Score for training data and print it."
   ]
  },
  {
   "cell_type": "code",
   "execution_count": 76,
   "metadata": {},
   "outputs": [],
   "source": [
    "lr_r2_train = r2_score(y_true=Y_test, y_pred=lr_predict)"
   ]
  },
  {
   "cell_type": "markdown",
   "metadata": {},
   "source": [
    "Comaparing training and testing R2 scores"
   ]
  },
  {
   "cell_type": "code",
   "execution_count": 77,
   "metadata": {},
   "outputs": [
    {
     "name": "stdout",
     "output_type": "stream",
     "text": [
      "R2 score for Linear Regression Testing Data is:  0.6988549051994033\n",
      "R2 score for Linear Regression Testing Data is:  0.6988549051994033\n"
     ]
    }
   ],
   "source": [
    "print('R2 score for Linear Regression Testing Data is: ', lr_r2_train)\n",
    "print('R2 score for Linear Regression Testing Data is: ', lr_r2_test)"
   ]
  },
  {
   "cell_type": "markdown",
   "metadata": {},
   "source": [
    "# Applying Polynomial Regression"
   ]
  },
  {
   "cell_type": "markdown",
   "metadata": {},
   "source": [
    "#### Task 44: Import PolynomialFeatures from sklearn"
   ]
  },
  {
   "cell_type": "code",
   "execution_count": 78,
   "metadata": {},
   "outputs": [],
   "source": [
    "#write code here\n",
    "from sklearn.preprocessing import PolynomialFeatures"
   ]
  },
  {
   "cell_type": "markdown",
   "metadata": {},
   "source": [
    "#### Task 45: Make and object of default Polynomial Features"
   ]
  },
  {
   "cell_type": "code",
   "execution_count": 79,
   "metadata": {},
   "outputs": [],
   "source": [
    "#write code here\n",
    "poly_reg = PolynomialFeatures()"
   ]
  },
  {
   "cell_type": "markdown",
   "metadata": {},
   "source": [
    "#### Task 46: Transform the features to higher degree features."
   ]
  },
  {
   "cell_type": "code",
   "execution_count": 80,
   "metadata": {},
   "outputs": [],
   "source": [
    "#write code here\n",
    "X_train_poly,X_test_poly = poly_reg.fit_transform(X_train), poly_reg.fit_transform(X_test)"
   ]
  },
  {
   "cell_type": "markdown",
   "metadata": {},
   "source": [
    "#### Task 47: Fit the transformed features to Linear Regression"
   ]
  },
  {
   "cell_type": "code",
   "execution_count": 81,
   "metadata": {},
   "outputs": [],
   "source": [
    "#write code here\n",
    "poly_model = LinearRegression()"
   ]
  },
  {
   "cell_type": "code",
   "execution_count": 84,
   "metadata": {},
   "outputs": [
    {
     "data": {
      "text/plain": [
       "LinearRegression(copy_X=True, fit_intercept=True, n_jobs=None,\n",
       "         normalize=False)"
      ]
     },
     "execution_count": 84,
     "metadata": {},
     "output_type": "execute_result"
    }
   ],
   "source": [
    "poly_model.fit(X_train_poly, Y_train)"
   ]
  },
  {
   "cell_type": "markdown",
   "metadata": {},
   "source": [
    "#### Task 48: Find the predictions on the data set"
   ]
  },
  {
   "cell_type": "code",
   "execution_count": 85,
   "metadata": {},
   "outputs": [],
   "source": [
    "#write code here\n",
    "y_train_predicted,y_test_predict = poly_model.predict(X_train_poly), poly_model.predict(X_test_poly)"
   ]
  },
  {
   "cell_type": "markdown",
   "metadata": {},
   "source": [
    "#### Task 49: Evaluate R2 score for training data set"
   ]
  },
  {
   "cell_type": "code",
   "execution_count": 86,
   "metadata": {},
   "outputs": [],
   "source": [
    "#evaluating the model on training dataset\n",
    "#write code here\n",
    "r2_train = r2_score(Y_train, y_train_predicted)"
   ]
  },
  {
   "cell_type": "markdown",
   "metadata": {},
   "source": [
    "#### Task 50: Evaluate R2 score for test data set"
   ]
  },
  {
   "cell_type": "code",
   "execution_count": 87,
   "metadata": {},
   "outputs": [],
   "source": [
    "# evaluating the model on test dataset\n",
    "#write code here\n",
    "r2_test = r2_score(Y_test, y_test_predict)"
   ]
  },
  {
   "cell_type": "markdown",
   "metadata": {},
   "source": [
    "Comaparing training and testing R2 scores"
   ]
  },
  {
   "cell_type": "code",
   "execution_count": 88,
   "metadata": {
    "scrolled": true
   },
   "outputs": [
    {
     "name": "stdout",
     "output_type": "stream",
     "text": [
      "The r2 score for training set is:  0.8003611488091573\n",
      "The r2 score for testing set is:  0.8000059618104304\n"
     ]
    }
   ],
   "source": [
    "#write code here\n",
    "print ('The r2 score for training set is: ',r2_train)\n",
    "print ('The r2 score for testing set is: ',r2_test)"
   ]
  },
  {
   "cell_type": "markdown",
   "metadata": {},
   "source": [
    "#### Task 51: Select the best model"
   ]
  },
  {
   "cell_type": "markdown",
   "metadata": {},
   "source": [
    "**Question: Which model gives the best result for price prediction? Find out the complexity using R2 score and give your answer.**<br>\n",
    "*Hint: Use for loop for finding the best degree and model complexity for polynomial regression model*"
   ]
  },
  {
   "cell_type": "code",
   "execution_count": 93,
   "metadata": {},
   "outputs": [
    {
     "name": "stdout",
     "output_type": "stream",
     "text": [
      "R2 Train [0.8003611488091573, 0.8003611488091573, 0.8003611488091573, 0.8003611488091573, 0.8003611488091573]\n",
      "R2 Test [0.8000059618104304, 0.8000059618104304, 0.8000059618104304, 0.8000059618104304, 0.8000059618104304]\n"
     ]
    }
   ],
   "source": [
    "#write code here\n",
    "r2_train=[]\n",
    "r2_test=[]\n",
    "for i in range(1,6):\n",
    "    poly_reg = PolynomialFeatures()\n",
    "    \n",
    "    X_tr_poly,X_tst_poly = poly_reg.fit_transform(X_train), poly_reg.fit_transform(X_test)\n",
    "    poly = LinearRegression()\n",
    "    poly.fit(X_tr_poly, Y_train)\n",
    "   \n",
    "    y_tr_predicted,y_tst_predict = poly.predict(X_tr_poly), poly.predict(X_tst_poly)\n",
    "    r2_train.append(r2_score(Y_train, y_tr_predicted))\n",
    "    r2_test.append(r2_score(Y_test, y_tst_predict))\n",
    "    \n",
    "print ('R2 Train', r2_train)\n",
    "print ('R2 Test', r2_test)"
   ]
  },
  {
   "cell_type": "markdown",
   "metadata": {},
   "source": [
    "#### Plotting the model"
   ]
  },
  {
   "cell_type": "code",
   "execution_count": 94,
   "metadata": {},
   "outputs": [
    {
     "data": {
      "image/png": "[encoded data removed]",
      "text/plain": [
       "<Figure size 1296x360 with 2 Axes>"
      ]
     },
     "metadata": {
      "needs_background": "light"
     },
     "output_type": "display_data"
    }
   ],
   "source": [
    "plt.figure(figsize=(18,5))\n",
    "sns.set_context('poster')\n",
    "plt.subplot(1,2,1)\n",
    "sns.lineplot(x=list(range(1,6)), y=r2_train, label='Training');\n",
    "plt.subplot(1,2,2)\n",
    "sns.lineplot(x=list(range(1,6)), y=r2_test, label='Testing');"
   ]
  },
  {
   "cell_type": "markdown",
   "metadata": {},
   "source": [
    "**Answer**"
   ]
  },
  {
   "cell_type": "code",
   "execution_count": null,
   "metadata": {},
   "outputs": [],
   "source": []
  }
 ],
 "metadata": {
  "kernelspec": {
   "display_name": "Python 3",
   "language": "python",
   "name": "python3"
  },
  "language_info": {
   "codemirror_mode": {
    "name": "ipython",
    "version": 3
   },
   "file_extension": ".py",
   "mimetype": "text/x-python",
   "name": "python",
   "nbconvert_exporter": "python",
   "pygments_lexer": "ipython3",
   "version": "3.7.3"
  }
 },
 "nbformat": 4,
 "nbformat_minor": 2
}
